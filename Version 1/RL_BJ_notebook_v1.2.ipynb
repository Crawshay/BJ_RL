{
 "cells": [
  {
   "cell_type": "code",
   "execution_count": 153,
   "metadata": {
    "collapsed": true
   },
   "outputs": [],
   "source": [
    "import pandas as pd\n",
    "import numpy as np\n",
    "import time\n",
    "import random as rn\n",
    "import matplotlib.pyplot as plt\n",
    "\n",
    "#pd.set_option(\"display.max_rows\",1001)\n",
    "\n",
    "\n"
   ]
  },
  {
   "cell_type": "code",
   "execution_count": 2,
   "metadata": {
    "collapsed": true
   },
   "outputs": [],
   "source": [
    "df_C_Base = pd.read_csv(\"Cards.csv\")"
   ]
  },
  {
   "cell_type": "code",
   "execution_count": 202,
   "metadata": {
    "collapsed": false
   },
   "outputs": [],
   "source": [
    "#df_C_Base.sample(frac=1).reset_index(drop=True)"
   ]
  },
  {
   "cell_type": "code",
   "execution_count": 4,
   "metadata": {
    "collapsed": false
   },
   "outputs": [
    {
     "data": {
      "text/html": [
       "<div>\n",
       "<table border=\"1\" class=\"dataframe\">\n",
       "  <thead>\n",
       "    <tr style=\"text-align: right;\">\n",
       "      <th></th>\n",
       "      <th>Face</th>\n",
       "      <th>N_Face</th>\n",
       "      <th>Suit</th>\n",
       "      <th>Value</th>\n",
       "      <th>Cvalue</th>\n",
       "    </tr>\n",
       "  </thead>\n",
       "  <tbody>\n",
       "    <tr>\n",
       "      <th>0</th>\n",
       "      <td>A</td>\n",
       "      <td>14</td>\n",
       "      <td>H</td>\n",
       "      <td>11</td>\n",
       "      <td>-1</td>\n",
       "    </tr>\n",
       "    <tr>\n",
       "      <th>1</th>\n",
       "      <td>K</td>\n",
       "      <td>10</td>\n",
       "      <td>H</td>\n",
       "      <td>10</td>\n",
       "      <td>-1</td>\n",
       "    </tr>\n",
       "    <tr>\n",
       "      <th>2</th>\n",
       "      <td>Q</td>\n",
       "      <td>10</td>\n",
       "      <td>H</td>\n",
       "      <td>10</td>\n",
       "      <td>-1</td>\n",
       "    </tr>\n",
       "    <tr>\n",
       "      <th>3</th>\n",
       "      <td>J</td>\n",
       "      <td>10</td>\n",
       "      <td>H</td>\n",
       "      <td>10</td>\n",
       "      <td>-1</td>\n",
       "    </tr>\n",
       "    <tr>\n",
       "      <th>4</th>\n",
       "      <td>T</td>\n",
       "      <td>10</td>\n",
       "      <td>H</td>\n",
       "      <td>10</td>\n",
       "      <td>-1</td>\n",
       "    </tr>\n",
       "  </tbody>\n",
       "</table>\n",
       "</div>"
      ],
      "text/plain": [
       "  Face  N_Face Suit  Value  Cvalue\n",
       "0    A      14    H     11      -1\n",
       "1    K      10    H     10      -1\n",
       "2    Q      10    H     10      -1\n",
       "3    J      10    H     10      -1\n",
       "4    T      10    H     10      -1"
      ]
     },
     "execution_count": 4,
     "metadata": {},
     "output_type": "execute_result"
    }
   ],
   "source": [
    "df_C_Base.head()"
   ]
  },
  {
   "cell_type": "code",
   "execution_count": 41,
   "metadata": {
    "collapsed": true
   },
   "outputs": [],
   "source": [
    "def deck_gen_t1 (N_decks, df_C_Base):\n",
    "    N_decks = float(N_decks)\n",
    "    df_deck_ = pd.DataFrame()\n",
    "    len1 = len(df_C_Base)\n",
    "    N_rnup = np.ceil(N_decks)\n",
    "    Rat = float(N_decks)/float(N_rnup)\n",
    "    N_ent = Rat * (N_rnup * len1)\n",
    "    for n1 in range(0,int(N_rnup)):\n",
    "        df_di = df_C_Base\n",
    "        df_di[\"Deck\"] = n1\n",
    "        df_deck_ = pd.concat([df_deck_,df_di])\n",
    "    \n",
    "    df_deck__ = df_deck_.sample(frac=1).reset_index(drop=True)\n",
    "    df_deck = df_deck__.iloc[0:int(np.round(N_ent))]\n",
    "    return df_deck\n",
    "    "
   ]
  },
  {
   "cell_type": "code",
   "execution_count": 42,
   "metadata": {
    "collapsed": false
   },
   "outputs": [],
   "source": [
    "def Cnt_upd (Cds_i,Cnt_run,D_size):\n",
    "    #Count update\n",
    "    Cnt_i = sum(Cds_i[\"Cvalue\"])\n",
    "    Cnt_run_new = Cnt_run + Cnt_i\n",
    "    P_cnt = float(Cnt_run_new) / float(D_size)\n",
    "    D_size_new = D_size - len(Cds_i)\n",
    "    return Cnt_run_new, P_cnt, D_size_new\n",
    "    "
   ]
  },
  {
   "cell_type": "code",
   "execution_count": 43,
   "metadata": {
    "collapsed": false
   },
   "outputs": [],
   "source": [
    "def hand_val (hand):\n",
    "    hand_val = sum(hand[\"Value\"])\n",
    "    return hand_val"
   ]
  },
  {
   "cell_type": "code",
   "execution_count": 44,
   "metadata": {
    "collapsed": false
   },
   "outputs": [],
   "source": [
    "def deal_out (df_deck, N_players):\n",
    "    N_cards = 2 * (N_players + 1)\n",
    "    df_hands = df_deck.iloc[0:N_cards]\n",
    "    df_hands[\"Player\"] = \"\"\n",
    "    df_hands.loc[0:1,\"Player\"] = \"Dealer\"\n",
    "    for n1 in range(0,N_players):\n",
    "        df_hands.loc[(n1+1)*2:((n1+2)*2)-1,\"Player\"] = \"P\" + str(n1 + 1)\n",
    "\n",
    "    df_deck_new = df_deck.drop(range(0,N_cards)).reset_index(drop=True)\n",
    "    return df_hands, df_deck_new"
   ]
  },
  {
   "cell_type": "code",
   "execution_count": 45,
   "metadata": {
    "collapsed": false
   },
   "outputs": [],
   "source": [
    "def Value (df_hand):\n",
    "    val = sum(df_hand[\"Value\"])\n",
    "    if ((val > 21) & (14 in np.array(df_hand[\"N_Face\"]))):\n",
    "        val = val - 10\n",
    "    return val\n",
    "\n",
    "def Value_HS (df_hand):\n",
    "    val = sum(df_hand[\"Value\"])\n",
    "    HS_type = \"Hard\"\n",
    "    if ((val > 21) & (14 in np.array(df_hand[\"N_Face\"]))):\n",
    "        val = val - 10\n",
    "    elif ((val <= 21) & (14 in np.array(df_hand[\"N_Face\"]))):\n",
    "        HS_type =\"Soft\"\n",
    "    return val, HS_type"
   ]
  },
  {
   "cell_type": "markdown",
   "metadata": {},
   "source": [
    "def Value_HS (df_hand):\n",
    "    val = sum(df_hand[\"Value\"])\n",
    "    HS_type = \"Hard\"\n",
    "    if ((val > 21) & (14 in np.array(df_hand[\"N_Face\"]))):\n",
    "        val = val - 10\n",
    "    elif ((val <= 21) & (14 in np.array(df_hand[\"N_Face\"]))):\n",
    "        \"Soft\"\n",
    "    return val, HS_type"
   ]
  },
  {
   "cell_type": "code",
   "execution_count": 46,
   "metadata": {
    "collapsed": false
   },
   "outputs": [],
   "source": [
    "def Q_learn_v1(state,Q,act_i,rew):\n",
    "    qi = Q[state]\n",
    "    p_rew = np.float(Q[state][act_i][0])\n",
    "    p_cnt = np.float(Q[state][act_i][1])\n",
    "    n_cnt = p_cnt + 1.0\n",
    "    n_rew = ((p_rew * p_cnt) + rew) / (n_cnt)\n",
    "    arr_i = [n_rew, n_cnt]\n",
    "    qi.update({act_i:arr_i})\n",
    "    Q.update({state:qi})\n",
    "    return Q\n",
    "    \n",
    "    "
   ]
  },
  {
   "cell_type": "code",
   "execution_count": 47,
   "metadata": {
    "collapsed": true
   },
   "outputs": [],
   "source": [
    "df_BSp = pd.read_csv(\"BS_Pair.csv\")\n",
    "df_BSv = pd.read_csv(\"BS_Value.csv\")"
   ]
  },
  {
   "cell_type": "code",
   "execution_count": 48,
   "metadata": {
    "collapsed": true
   },
   "outputs": [],
   "source": [
    "def reward (value):\n",
    "    val = np.float(value)\n",
    "    if val > 21:\n",
    "        rew = -30\n",
    "    elif val <= 21:\n",
    "        rew = (1.0 / (23.0 - val)) * 20\n",
    "    else:\n",
    "        print \"Reward Error\"\n",
    "        \n",
    "    return rew"
   ]
  },
  {
   "cell_type": "code",
   "execution_count": 49,
   "metadata": {
    "collapsed": false
   },
   "outputs": [],
   "source": [
    "def act_Q(state,Q,p_act):\n",
    "    try:\n",
    "        Q[state]\n",
    "    except:\n",
    "        q_i = {}\n",
    "        for a_i in p_act:\n",
    "            q_i.update({a_i:[0,0]})\n",
    "        Q.update({state:q_i})  \n",
    "    \n",
    "    max_rQ = -100\n",
    "    for a_i in p_act:\n",
    "        rQ_val = Q[state][a_i][0]\n",
    "        if rQ_val > max_rQ:\n",
    "            act_i = a_i\n",
    "            max_rQ = rQ_val\n",
    "    \n",
    "    return Q, act_i"
   ]
  },
  {
   "cell_type": "code",
   "execution_count": 50,
   "metadata": {
    "collapsed": true
   },
   "outputs": [],
   "source": [
    "def act_Q_Mutate(state,Q,p_act):\n",
    "    try:\n",
    "        Q[state]\n",
    "    except:\n",
    "        q_i = {}\n",
    "        for a_i in p_act:\n",
    "            q_i.update({a_i:[0,0]})\n",
    "        Q.update({state:q_i})  \n",
    "\n",
    "    \n",
    "    max_rQ = -100\n",
    "    for a_i in p_act:\n",
    "        rQ_val = Q[state][a_i][0]\n",
    "        if rQ_val > max_rQ:\n",
    "            act_i = a_i\n",
    "            max_rQ = rQ_val\n",
    "    \n",
    "    if rn.random() > 0.95:\n",
    "        p_act2 = [x for x in p_act if x != act_i]\n",
    "        act_i = p_act2[rn.randint(0,len(p_act2)-1)]\n",
    "        \n",
    "    \n",
    "    return Q, act_i\n",
    "\n",
    "def act_Q_Mutate_BS(state,Q,p_act):\n",
    "    try:\n",
    "        Q[state]\n",
    "    except:\n",
    "        P_act = ['H','S']\n",
    "        G_rew = 15.0\n",
    "        B_rew = -15.0\n",
    "        N_add = 7.0\n",
    "        \n",
    "        st_i = state\n",
    "        DC_i = st_i[2]\n",
    "        if DC_i == 11:\n",
    "            DC_i = 14\n",
    "        Act_i = BS_St_val(st_i[0],st_i[1],DC_i,df_BSv)\n",
    "        qi = {}\n",
    "        for act_i in P_act:\n",
    "            if act_i == Act_i:\n",
    "                qi.update({act_i:[G_rew,N_add]})\n",
    "\n",
    "            else:\n",
    "                qi.update({act_i:[B_rew,N_add]})\n",
    "        Q.update({st_i:qi})\n",
    "\n",
    "    \n",
    "    max_rQ = -100\n",
    "    for a_i in p_act:\n",
    "        rQ_val = Q[state][a_i][0]\n",
    "        if rQ_val > max_rQ:\n",
    "            act_i = a_i\n",
    "            max_rQ = rQ_val\n",
    "    \n",
    "    if rn.random() > 0.95:\n",
    "        p_act2 = [x for x in p_act if x != act_i]\n",
    "        act_i = p_act2[rn.randint(0,len(p_act2)-1)]\n",
    "        \n",
    "    \n",
    "    return Q, act_i"
   ]
  },
  {
   "cell_type": "code",
   "execution_count": null,
   "metadata": {
    "collapsed": true
   },
   "outputs": [],
   "source": []
  },
  {
   "cell_type": "markdown",
   "metadata": {},
   "source": [
    "def act_Q_local(state,Q,p_act,player):\n",
    "    local_Q = {}\n",
    "    try:\n",
    "        Q[state]\n",
    "    except:\n",
    "        q_i = {}\n",
    "        for a_i in p_act:\n",
    "            q_i.update({a_i:[0,0]})\n",
    "        Q.update({state:q_i})  \n",
    "    \n",
    "    max_rQ = -100\n",
    "    for a_i in p_act:\n",
    "        rQ_val = Q[state][a_i][0]\n",
    "        if rQ_val > max_rQ:\n",
    "            act_i = a_i\n",
    "            max_rQ = rQ_val\n",
    "    \n",
    "    return Q, act_i"
   ]
  },
  {
   "cell_type": "code",
   "execution_count": 51,
   "metadata": {
    "collapsed": false
   },
   "outputs": [],
   "source": [
    "#def BS_FH (df_i, DC_i, df_BSv, df_BSp):\n",
    "#    #Pair present?\n",
    "\n",
    "\n",
    "def BS_St (df_i, DC_i, df_BSv):        \n",
    "    Val, H_S = Value_HS(df_i)\n",
    "    \n",
    "    Acter = df_BSv.loc[(df_BSv[\"P_Val\"] == Val) & (df_BSv[\"H_S\"] == H_S) & (df_BSv[\"D_C\"] == DC_i[\"N_Face\"]),\"Action\"].reset_index(drop=True)\n",
    "    Act_i = Acter.iloc[0]\n",
    "    return Act_i\n",
    "\n",
    "\n",
    "def BS_St_val (Val, H_S, DC_i, df_BSv):\n",
    "    Acter = df_BSv.loc[(df_BSv[\"P_Val\"] == Val) & (df_BSv[\"H_S\"] == H_S) & (df_BSv[\"D_C\"] == DC_i),\"Action\"].reset_index(drop=True)\n",
    "    Act_i = Acter.iloc[0]\n",
    "    return Act_i"
   ]
  },
  {
   "cell_type": "code",
   "execution_count": 52,
   "metadata": {
    "collapsed": false
   },
   "outputs": [],
   "source": [
    "def Act_H (df_h_i, P_i, df_deck):\n",
    "    row_i = df_deck.iloc[0:1]\n",
    "    row_i[\"Player\"] = P_i\n",
    "    df_h_i_new = pd.concat([df_h_i,row_i]).reset_index(drop=True)\n",
    "    df_deck_new = df_deck.drop(0).reset_index(drop=True)\n",
    "    return df_h_i_new, df_deck_new\n",
    "\n",
    "\n",
    "\n",
    "\n",
    "def Act (Act_i, df_h_i, P_i, df_deck):\n",
    "    if Act_i == \"H\":\n",
    "        df_h_i, df_deck = Act_H (df_h_i, P_i, df_deck)\n",
    "        DD_ratio = 1; Status = \"Playing\"\n",
    "    elif Act_i == \"S\":\n",
    "        DD_ratio = 1; Status = \"Stick\"\n",
    "    elif Act_i == \"P\":\n",
    "        print \"Split!?!\"\n",
    "    elif Act_i == \"Dh\":\n",
    "        df_h_i, df_deck = Act_H (df_h_i, P_i, df_deck)\n",
    "        Status = \"Playing\"; DD_ratio = 2\n",
    "    elif Act_i == \"Ds\":\n",
    "        Status = \"Stick\"; DD_ratio = 2\n",
    "        \n",
    "    return df_h_i, df_deck, Status"
   ]
  },
  {
   "cell_type": "code",
   "execution_count": 53,
   "metadata": {
    "collapsed": true
   },
   "outputs": [],
   "source": [
    "def track_Q (state,P_i,act,rew,local_Q):\n",
    "    lq = len(local_Q)\n",
    "    local_Q.update({lq:{P_i:{state:{act:rew}}}})\n",
    "    return local_Q"
   ]
  },
  {
   "cell_type": "code",
   "execution_count": 54,
   "metadata": {
    "collapsed": true
   },
   "outputs": [],
   "source": [
    "def Q_learn_post_dealer (Q,local_Q,df_Stat):\n",
    "    df_Stat[\"Outcome\"] = \"\"\n",
    "    df_Stat.loc[df_Stat[\"Status\"]==\"Bust\",\"Outcome\"] = \"Dealer\"\n",
    "    df_Stat.loc[(df_Stat[\"Status\"]==\"Stick\")&(df_Stat[\"Dealer_Score\"]>21),\"Outcome\"] = \"Player\"\n",
    "    df_Stat.loc[(df_Stat[\"Status\"]==\"Stick\")&(df_Stat[\"Dealer_Score\"]<22)&(df_Stat[\"Dealer_Score\"] < df_Stat[\"Value\"]),\"Outcome\"] = \"Player\"\n",
    "    df_Stat.loc[(df_Stat[\"Status\"]==\"Stick\")&(df_Stat[\"Dealer_Score\"]<22)&(df_Stat[\"Dealer_Score\"] >= df_Stat[\"Value\"]),\"Outcome\"] = \"Dealer\"\n",
    "\n",
    "    \n",
    "    "
   ]
  },
  {
   "cell_type": "code",
   "execution_count": 55,
   "metadata": {
    "collapsed": false
   },
   "outputs": [],
   "source": [
    "def Q_learn_PD_v1 (df_Stat,local_Q):\n",
    "    df_Stat[\"Outcome\"] = 0\n",
    "    df_Stat.loc[df_Stat[\"Status\"]==\"Bust\",\"Rew\"] = -15\n",
    "    df_Stat.loc[(df_Stat[\"Status\"]==\"Stick\")&(df_Stat[\"Dealer_Score\"]>21),\"Rew\"] = 15\n",
    "    df_Stat.loc[(df_Stat[\"Status\"]==\"Stick\")&(df_Stat[\"Dealer_Score\"]<22)&(df_Stat[\"Dealer_Score\"] < df_Stat[\"Value\"]),\"Rew\"] = 15\n",
    "    df_Stat.loc[(df_Stat[\"Status\"]==\"Stick\")&(df_Stat[\"Dealer_Score\"]<22)&(df_Stat[\"Dealer_Score\"] >= df_Stat[\"Value\"]),\"Rew\"] = -15\n",
    "\n",
    "    for n1 in range(0,len(local_Q)):\n",
    "        P_i = local_Q[n1].keys()[0]\n",
    "        st_i = local_Q[n1][P_i].keys()[0]\n",
    "        Act_i = local_Q[n1][P_i][st_i].keys()[0]\n",
    "        #arr_i = local_Q[n1][P_i][st_i].values()[0]\n",
    "        Rew_off = df_Stat.loc[df_Stat[\"Player\"]==P_i,\"Rew\"].reset_index(drop=True)[0]\n",
    "        Rew_loc = local_Q[n1][P_i][st_i].values()[0]\n",
    "        Rew_fin = Rew_off + Rew_loc\n",
    "        cnt = Q[st_i][Act_i][1]\n",
    "        Rew_avg = ((Rew_fin * cnt) + Rew_fin) / (cnt + 1)\n",
    "        Rew_arr = [Rew_avg, cnt + 1]\n",
    "        qi = Q[st_i]\n",
    "        qi.update({Act_i:Rew_arr})\n",
    "        Q.update({st_i:qi})\n",
    "        \n",
    "    return Q\n",
    "\n",
    "\n",
    "def Q_learn_PD_v2 (df_Stat,local_Q,Q):\n",
    "    df_Stat[\"Outcome\"] = 0\n",
    "    df_Stat.loc[df_Stat[\"Status\"]==\"Bust\",\"Rew\"] = -15\n",
    "    df_Stat.loc[(df_Stat[\"Status\"]==\"Stick\")&(df_Stat[\"Dealer_Score\"]>21),\"Rew\"] = 15\n",
    "    df_Stat.loc[(df_Stat[\"Status\"]==\"Stick\")&(df_Stat[\"Dealer_Score\"]<22)&(df_Stat[\"Dealer_Score\"] < df_Stat[\"Value\"]),\"Rew\"] = 15\n",
    "    df_Stat.loc[(df_Stat[\"Status\"]==\"Stick\")&(df_Stat[\"Dealer_Score\"]<22)&(df_Stat[\"Dealer_Score\"] >= df_Stat[\"Value\"]),\"Rew\"] = -15\n",
    "\n",
    "    for n1 in range(0,len(local_Q)):\n",
    "        P_i = local_Q[n1].keys()[0]\n",
    "        st_i = local_Q[n1][P_i].keys()[0]\n",
    "        Act_i = local_Q[n1][P_i][st_i].keys()[0]\n",
    "        #arr_i = local_Q[n1][P_i][st_i].values()[0]\n",
    "        Rew_prev = Q[st_i][Act_i][0]\n",
    "        Rew_off = df_Stat.loc[df_Stat[\"Player\"]==P_i,\"Rew\"].reset_index(drop=True)[0]\n",
    "        Rew_loc = local_Q[n1][P_i][st_i].values()[0]\n",
    "        Rew_fin = Rew_off + Rew_loc\n",
    "        cnt = Q[st_i][Act_i][1]\n",
    "        Rew_avg = ((Rew_prev * cnt) + Rew_fin) / (cnt + 1)\n",
    "        Rew_arr = [Rew_avg, cnt + 1]\n",
    "        qi = Q[st_i]\n",
    "        qi.update({Act_i:Rew_arr})\n",
    "        Q.update({st_i:qi})\n",
    "        \n",
    "    return Q"
   ]
  },
  {
   "cell_type": "code",
   "execution_count": null,
   "metadata": {
    "collapsed": false
   },
   "outputs": [],
   "source": [
    "\n",
    "        "
   ]
  },
  {
   "cell_type": "markdown",
   "metadata": {
    "collapsed": false
   },
   "source": [
    "df_Stat[\"Outcome\"] = 0\n",
    "df_Stat.loc[df_Stat[\"Status\"]==\"Bust\",\"Rew\"] = -15\n",
    "df_Stat.loc[(df_Stat[\"Status\"]==\"Stick\")&(df_Stat[\"Dealer_Score\"]>21),\"Rew\"] = 15\n",
    "df_Stat.loc[(df_Stat[\"Status\"]==\"Stick\")&(df_Stat[\"Dealer_Score\"]<22)&(df_Stat[\"Dealer_Score\"] < df_Stat[\"Value\"]),\"Rew\"] = 15\n",
    "df_Stat.loc[(df_Stat[\"Status\"]==\"Stick\")&(df_Stat[\"Dealer_Score\"]<22)&(df_Stat[\"Dealer_Score\"] >= df_Stat[\"Value\"]),\"Rew\"] = -15\n",
    "\n",
    "for n1 in range(0,len(local_Q)):\n",
    "    P_i = local_Q[n1].keys()[0]\n",
    "    st_i = local_Q[n1][P_i].keys()[0]\n",
    "    Act_i = local_Q[n1][P_i][st_i].keys()[0]\n",
    "    #arr_i = local_Q[n1][P_i][st_i].values()[0]\n",
    "    Rew_off = df_Stat.loc[df_Stat[\"Player\"]==P_i,\"Rew\"].reset_index(drop=True)[0]\n",
    "    Rew_loc = local_Q[n1][P_i][st_i].values()[0]\n",
    "    Rew_fin = Rew_off + Rew_loc\n",
    "    cnt = Q[st_i][Act_i][1]\n",
    "    Rew_avg = ((Rew_fin * cnt) + Rew_fin) / (cnt + 1)\n",
    "    Rew_arr = [Rew_avg, cnt + 1]\n",
    "    qi = Q[st_i]\n",
    "    qi.update({Act_i:Rew_arr})\n",
    "    Q.update({st_i:qi})"
   ]
  },
  {
   "cell_type": "markdown",
   "metadata": {
    "collapsed": false,
    "scrolled": true
   },
   "source": [
    "N_hands = 20\n",
    "N_decks = 8\n",
    "N_players = 1\n",
    "\n",
    "#initiate Count\n",
    "C_cnt = 0; C_deck = 1\n",
    "\n",
    "#Set up intial deck\n",
    "df_deck = deck_gen_t1 (N_decks, df_C_Base)\n",
    "df_deck[\"N_deck\"] = C_deck\n",
    "\n",
    "c1 = 0; df_out = pd.DataFrame(); d_det = {}\n",
    "\n",
    "\n",
    "P_array = []\n",
    "for pn in range(0,N_players):\n",
    "    P_array = P_array + [\"P\" + str(pn + 1)]\n",
    "\n",
    "for hn in range(0,N_hands):\n",
    "    #C_cnt_prev = C_cnt\n",
    "    \n",
    "    if len(df_deck) < 20:\n",
    "        df_deck = deck_gen_t1 (N_decks, df_C_Base)\n",
    "        C_deck += 1\n",
    "        df_deck[\"N_deck\"] = C_deck\n",
    "        C_cnt = 0\n",
    "    \n",
    "    df_Stat = pd.DataFrame({\"Player\":P_array,\"Status\":\"\",\"Value\":\"\",\"Hand_Nmb\":hn,\"Dealer_Score\":0})\n",
    "    \n",
    "    #Deal out \n",
    "    df_h_i, df_deck = deal_out(df_deck,N_players)\n",
    "    #Viz_cards = df_h_i.drop(1).reset_index(drop=True)\n",
    "    DC_i = df_h_i.loc[0]\n",
    "    \n",
    "    for n1 in range(0,N_players):\n",
    "        P_i = \"P\" + str(n1+1)\n",
    "        \n",
    "        cond1=0\n",
    "        while cond1==0:\n",
    "            df_i = df_h_i.loc[df_h_i[\"Player\"]==P_i]\n",
    "            #pre_val = sum(df_i[\"Value\"])\n",
    "            pre_val = Value(df_i)\n",
    "            \n",
    "            Act_i = BS_St (df_i, DC_i, df_BSv)\n",
    "            df_h_i, df_deck, Status = Act(Act_i, df_h_i, P_i, df_deck)\n",
    "            \n",
    "            \n",
    "            df_i = df_h_i.loc[df_h_i[\"Player\"]==P_i]\n",
    "            #post_val = sum(df_i[\"Value\"])\n",
    "            post_val = Value(df_i)\n",
    "            \n",
    "            if post_val > 21:\n",
    "                Status  = \"Bust\"\n",
    "                \n",
    "            if Status != \"Playing\":\n",
    "                cond1 = 1\n",
    "                df_Stat.loc[df_Stat[\"Player\"]==P_i,\"Value\"] = post_val\n",
    "                df_Stat.loc[df_Stat[\"Player\"]==P_i,\"Status\"] = Status\n",
    "                \n",
    "                \n",
    "            d_det.update({c1:{\"Hand\":hn,\"Player\":P_i,\"Action\":Act_i,\"Pre_Val\":pre_val,\"Post_val\":post_val,\"Status\":Status}})\n",
    "            c1 += 1\n",
    "        \n",
    "    #Dealer\n",
    "    M_val = np.max(df_Stat['Value'])\n",
    "    P_i = \"Dealer\"\n",
    "    cond1=0\n",
    "    while cond1 == 0:\n",
    "        df_i = df_h_i.loc[df_h_i[\"Player\"]==P_i]\n",
    "        #pre_val = sum(df_i[\"Value\"])\n",
    "        pre_val, H_S = Value_HS(df_i)\n",
    "        \n",
    "        #if pre_val < M_val:\n",
    "        #    Act_i = \"H\"\n",
    "        #else:\n",
    "        #    Act_i = \"S\"\n",
    "        \n",
    "        if pre_val < 17:\n",
    "            Act_i = \"H\"\n",
    "        elif ((pre_val == 17) & (H_S == \"Soft\")):\n",
    "            Act_i = \"H\"\n",
    "        elif ((pre_val >= 17) & (H_S == \"Hard\")):\n",
    "            Act_i = \"S\"\n",
    "        else:\n",
    "            print \"check dealer logic\"\n",
    "        \n",
    "              \n",
    "              \n",
    "        df_h_i, df_deck, Status = Act(Act_i, df_h_i, P_i, df_deck)\n",
    "        \n",
    "        df_i = df_h_i.loc[df_h_i[\"Player\"]==P_i]\n",
    "        #post_val = sum(df_i[\"Value\"])\n",
    "        post_val = Value(df_i)\n",
    "        \n",
    "        if post_val > 21:\n",
    "            Status = \"Bust\"\n",
    "            \n",
    "        if Status != \"Playing\":\n",
    "            cond1 = 1\n",
    "            df_Stat.loc[:,\"Dealer_Score\"] = post_val\n",
    "            #df_Stat.loc[df_Stat[\"Player\"]==P_i,\"Status\"] = Status\n",
    "    \n",
    "    df_Stat[\"Card_Count\"] = C_cnt\n",
    "    df_out = pd.concat([df_out,df_Stat])\n",
    "    C_cnt = C_cnt + sum(df_h_i[\"Cvalue\"])\n",
    "       \n",
    "    d_det.update({c1:{\"Hand\":hn,\"Player\":P_i,\"Action\":Act_i,\"Pre_Val\":pre_val,\"Post_val\":post_val,\"Status\":Status}})\n",
    "    c1 += 1\n",
    "        \n",
    "df_det = pd.DataFrame.from_dict(d_det,orient=\"index\")\n",
    "df_out = df_out.reset_index(drop=True)\n",
    "                \n",
    "\n",
    "    \n",
    "    \n",
    "    \n",
    "df_out[\"Outcome\"] = \"\"\n",
    "df_out.loc[df_out[\"Status\"]==\"Bust\",\"Outcome\"] = \"Dealer\"\n",
    "df_out.loc[(df_out[\"Status\"]==\"Stick\")&(df_out[\"Dealer_Score\"]>21),\"Outcome\"] = \"Player\"\n",
    "df_out.loc[(df_out[\"Status\"]==\"Stick\")&(df_out[\"Dealer_Score\"]<22)&(df_out[\"Dealer_Score\"] < df_out[\"Value\"]),\"Outcome\"] = \"Player\"\n",
    "df_out.loc[(df_out[\"Status\"]==\"Stick\")&(df_out[\"Dealer_Score\"]<22)&(df_out[\"Dealer_Score\"] >= df_out[\"Value\"]),\"Outcome\"] = \"Dealer\"\n",
    "\n",
    "\n",
    "df_WL = df_out[[\"Outcome\",\"Value\"]].groupby([\"Outcome\"]).count()\n",
    "df_WL_Spread_ = df_out[[\"Player\",\"Card_Count\",\"Outcome\",\"Value\"]].groupby([\"Player\",\"Card_Count\",\"Outcome\"]).count()\n",
    "\n",
    "#df_WL_Spread_2_ = df_out[[\"Card_Count\",\"Outcome\",\"Value\"]].groupby([\"Player\",\"Card_Count\",\"Outcome\"]).count()\n",
    "\n",
    "\n",
    "\n",
    "df_out.to_csv(\"df_out.csv\")\n"
   ]
  },
  {
   "cell_type": "code",
   "execution_count": 56,
   "metadata": {
    "collapsed": true
   },
   "outputs": [],
   "source": [
    "df_comb = df_BSv.iloc[:,0:4]\n",
    "df_comb[\"Q_action\"] = \"\"\n",
    "df_comb[\"Q_value\"] = 0\n",
    "df_comb[\"Total_Tracked_Actions\"] = 0\n",
    "df_comb[\"Specific_Tracked_Actions\"] = 0\n",
    "df_comb[\"BS_Match\"] = False\n",
    "df_comb[\"Status\"] = \"\"\n",
    "df_comb['Hand_numb'] = 0"
   ]
  },
  {
   "cell_type": "code",
   "execution_count": 57,
   "metadata": {
    "collapsed": false
   },
   "outputs": [
    {
     "ename": "SyntaxError",
     "evalue": "invalid syntax (<ipython-input-57-f59ccb95fb1e>, line 1)",
     "output_type": "error",
     "traceback": [
      "\u001b[0;36m  File \u001b[0;32m\"<ipython-input-57-f59ccb95fb1e>\"\u001b[0;36m, line \u001b[0;32m1\u001b[0m\n\u001b[0;31m    def comb_gen(df_comb,Q,hn,df_COMB)\u001b[0m\n\u001b[0m                                      ^\u001b[0m\n\u001b[0;31mSyntaxError\u001b[0m\u001b[0;31m:\u001b[0m invalid syntax\n"
     ]
    }
   ],
   "source": [
    "def comb_gen(df_comb,Q,hn,df_COMB):\n",
    "\n",
    "    for n1 in range(0,len(df_comb)):\n",
    "        st_i = (df_comb.loc[n1,'P_Val'],df_comb.loc[n1,'H_S'],df_comb.loc[n1,'D_C'])\n",
    "\n",
    "        if df_comb.loc[n1,'Action'] == \"Dh\":\n",
    "            df_comb.loc[n1,'Action'] = 'H'\n",
    "        elif df_comb.loc[n1,'Action'] == \"Ds\":\n",
    "            df_comb.loc[n1,'Action'] = 'S'\n",
    "\n",
    "\n",
    "        try:\n",
    "            TTAc = 0\n",
    "            vm = -100\n",
    "            for ki in Q[st_i].keys():\n",
    "                TTAc += Q[st_i][ki][1]\n",
    "                vi = Q[st_i][ki][0]\n",
    "                if vi > vm:\n",
    "                    act_j = ki\n",
    "                    vj = vi\n",
    "                    STAc = Q[st_i][ki][1]\n",
    "                    vm = vi\n",
    "        except:\n",
    "            TTAc = 0\n",
    "            STAc = 0\n",
    "            vj = 0\n",
    "            act_j = \"Not Present\"\n",
    "        df_comb.loc[n1,'Q_action'] = act_j\n",
    "        df_comb.loc[n1,'Q_value']  = vj\n",
    "        df_comb.loc[n1,'Total_Tracked_Actions'] = TTAc\n",
    "        df_comb.loc[n1,'Specific_Tracked_Actions'] = STAc\n",
    "\n",
    "        df_comb.loc[n1,'BS_Match'] = df_comb.loc[n1,'Action'] == df_comb.loc[n1,'Q_action']\n",
    "\n",
    "        if act_j == \"Not Present\":\n",
    "            status = act_j\n",
    "        else:\n",
    "            status = str(df_comb.loc[n1,'Action'] == df_comb.loc[n1,'Q_action'])\n",
    "\n",
    "        df_comb.loc[n1,'Status']= status\n",
    "        \n",
    "        df_COMB = pd.concat([df_COMB,df_comb]).reset_index(drop=True)"
   ]
  },
  {
   "cell_type": "code",
   "execution_count": null,
   "metadata": {
    "collapsed": true
   },
   "outputs": [],
   "source": []
  },
  {
   "cell_type": "code",
   "execution_count": 204,
   "metadata": {
    "collapsed": true
   },
   "outputs": [],
   "source": [
    "#Q = np.load('Q_dict_v3_BS.npy').item()\n",
    "Q={}"
   ]
  },
  {
   "cell_type": "code",
   "execution_count": 213,
   "metadata": {
    "collapsed": false,
    "scrolled": false
   },
   "outputs": [
    {
     "name": "stderr",
     "output_type": "stream",
     "text": [
      "/Users/samcrawshay-jones/anaconda/lib/python2.7/site-packages/ipykernel/__main__.py:4: SettingWithCopyWarning: \n",
      "A value is trying to be set on a copy of a slice from a DataFrame.\n",
      "Try using .loc[row_indexer,col_indexer] = value instead\n",
      "\n",
      "See the caveats in the documentation: http://pandas.pydata.org/pandas-docs/stable/indexing.html#indexing-view-versus-copy\n",
      "/Users/samcrawshay-jones/anaconda/lib/python2.7/site-packages/ipykernel/__main__.py:3: SettingWithCopyWarning: \n",
      "A value is trying to be set on a copy of a slice from a DataFrame.\n",
      "Try using .loc[row_indexer,col_indexer] = value instead\n",
      "\n",
      "See the caveats in the documentation: http://pandas.pydata.org/pandas-docs/stable/indexing.html#indexing-view-versus-copy\n",
      "  app.launch_new_instance()\n"
     ]
    },
    {
     "name": "stdout",
     "output_type": "stream",
     "text": [
      "Saved after 50 hands and 66.0239400864 s\n",
      "Saved after 100 hands and 127.95838213 s\n",
      "Saved after 150 hands and 193.164124966 s\n",
      "Saved after 200 hands and 322.094995022 s\n",
      "Saved after 250 hands and 395.259919167 s\n",
      "Saved after 300 hands and 463.873327971 s\n",
      "Saved after 350 hands and 535.310817957 s\n",
      "Saved after 400 hands and 608.578978062 s\n",
      "Saved after 450 hands and 680.90280509 s\n",
      "Saved after 500 hands and 748.192849159 s\n",
      "Saved after 550 hands and 815.104176044 s\n",
      "Saved after 600 hands and 887.096464157 s\n",
      "Saved after 650 hands and 960.245182991 s\n",
      "Saved after 700 hands and 1030.76298404 s\n",
      "Saved after 750 hands and 1101.30682611 s\n",
      "Saved after 800 hands and 1177.793648 s\n",
      "Saved after 850 hands and 1250.174052 s\n",
      "Saved after 900 hands and 1323.59323597 s\n",
      "Saved after 950 hands and 1394.08227801 s\n",
      "Saved after 1000 hands and 1468.06938815 s\n",
      "Saved after 1050 hands and 1540.67385316 s\n",
      "Saved after 1100 hands and 1620.79417396 s\n",
      "Saved after 1150 hands and 1707.29511309 s\n",
      "Saved after 1200 hands and 1853.55119205 s\n",
      "Saved after 1250 hands and 1982.30270314 s\n",
      "Saved after 1300 hands and 2052.13120103 s\n",
      "Saved after 1350 hands and 2122.41291595 s\n",
      "Saved after 1400 hands and 2200.921736 s\n",
      "Saved after 1450 hands and 2277.04481411 s\n",
      "Saved after 1500 hands and 2346.12481308 s\n",
      "Saved after 1550 hands and 2416.81286716 s\n",
      "Saved after 1600 hands and 2488.49573612 s\n",
      "Saved after 1650 hands and 2559.79692101 s\n",
      "Saved after 1700 hands and 2632.11498809 s\n",
      "Saved after 1750 hands and 2703.11226916 s\n",
      "Saved after 1800 hands and 2774.45132399 s\n",
      "Saved after 1850 hands and 2844.36891699 s\n",
      "Saved after 1900 hands and 2914.60957003 s\n",
      "Saved after 1950 hands and 2986.25597596 s\n",
      "Saved after 2000 hands and 3055.88133812 s\n",
      "Saved after 2050 hands and 3130.31506515 s\n",
      "Saved after 2100 hands and 3204.68552113 s\n",
      "Saved after 2150 hands and 3275.59403896 s\n",
      "Saved after 2200 hands and 3348.24805593 s\n",
      "Saved after 2250 hands and 3423.03268504 s\n",
      "Saved after 2300 hands and 3497.79207397 s\n",
      "Saved after 2350 hands and 3572.14588213 s\n",
      "Saved after 2400 hands and 3643.94033909 s\n",
      "Saved after 2450 hands and 3713.31858516 s\n",
      "Saved after 2500 hands and 3784.75599909 s\n",
      "Saved after 2550 hands and 3857.43815398 s\n",
      "Saved after 2600 hands and 3930.04839396 s\n",
      "Saved after 2650 hands and 4074.72186399 s\n",
      "Saved after 2700 hands and 4150.70429611 s\n",
      "Saved after 2750 hands and 4225.66625595 s\n",
      "Saved after 2800 hands and 4303.75584793 s\n",
      "Saved after 2850 hands and 4377.49291301 s\n",
      "Saved after 2900 hands and 4446.39140916 s\n",
      "Saved after 2950 hands and 4519.98949409 s\n",
      "Saved after 3000 hands and 4589.12103701 s\n",
      "Saved after 3050 hands and 4659.41485715 s\n",
      "Saved after 3100 hands and 4730.05209112 s\n",
      "Saved after 3150 hands and 4806.74984908 s\n",
      "Saved after 3200 hands and 4873.13682699 s\n",
      "Saved after 3250 hands and 5087.80350494 s\n",
      "Saved after 3300 hands and 5594.03807402 s\n",
      "Saved after 3350 hands and 5740.95581412 s\n",
      "Saved after 3400 hands and 5809.11564612 s\n",
      "Saved after 3450 hands and 5876.43326116 s\n",
      "Saved after 3500 hands and 5946.35910296 s\n",
      "Saved after 3550 hands and 6011.97258115 s\n",
      "Saved after 3600 hands and 6080.45234013 s\n",
      "Saved after 3650 hands and 6141.68133211 s\n",
      "Saved after 3700 hands and 6207.07224011 s\n",
      "Saved after 3750 hands and 6270.18382716 s\n",
      "Saved after 3800 hands and 6330.49282193 s\n",
      "Saved after 3850 hands and 6586.71093202 s\n",
      "Saved after 3900 hands and 6649.92839408 s\n",
      "Saved after 3950 hands and 6709.17591906 s\n",
      "Saved after 4000 hands and 6775.53434014 s\n",
      "Saved after 4050 hands and 6842.97923303 s\n",
      "Saved after 4100 hands and 6906.31321716 s\n",
      "Saved after 4150 hands and 6970.78983307 s\n",
      "Saved after 4200 hands and 7041.38200903 s\n",
      "Saved after 4250 hands and 7108.95426702 s\n",
      "Saved after 4300 hands and 7216.87938499 s\n",
      "Saved after 4350 hands and 7276.85551596 s\n",
      "Saved after 4400 hands and 7338.82321501 s\n",
      "Saved after 4450 hands and 7410.15025115 s\n",
      "Saved after 4500 hands and 7478.5315721 s\n",
      "Saved after 4550 hands and 7540.12567616 s\n",
      "Saved after 4600 hands and 7603.06705594 s\n",
      "Saved after 4650 hands and 7665.18488097 s\n",
      "Saved after 4700 hands and 7727.20915914 s\n",
      "Saved after 4750 hands and 7787.82140112 s\n",
      "Saved after 4800 hands and 7851.98940897 s\n",
      "Saved after 4850 hands and 8092.55928206 s\n",
      "Saved after 4900 hands and 8998.36819315 s\n",
      "Saved after 4950 hands and 9135.33480811 s\n",
      "5000 hands took 9352.66148114 s\n"
     ]
    }
   ],
   "source": [
    "#Q = {}\n",
    "match_dict = {}\n",
    "df_matcher = pd.DataFrame()\n",
    "\n",
    "\n",
    "t = time.time()\n",
    "\n",
    "\n",
    "N_hands = 5000\n",
    "N_decks = 8\n",
    "N_players = 4\n",
    "\n",
    "#initiate Count\n",
    "C_cnt = 0; C_deck = 1\n",
    "\n",
    "#Set up intial deck\n",
    "df_deck = deck_gen_t1 (N_decks, df_C_Base)\n",
    "df_deck[\"N_deck\"] = C_deck\n",
    "\n",
    "c1 = 0; df_out = pd.DataFrame(); d_det = {}\n",
    "\n",
    "\n",
    "P_array = []\n",
    "for pn in range(0,N_players):\n",
    "    P_array = P_array + [\"P\" + str(pn + 1)]\n",
    "\n",
    "C_cnt = 0\n",
    "for hn in range(0,N_hands):\n",
    "    #C_cnt_prev = C_cnt\n",
    "    \n",
    "    if len(df_deck) < 25:\n",
    "        df_deck = deck_gen_t1 (N_decks, df_C_Base)\n",
    "        C_deck += 1\n",
    "        df_deck[\"N_deck\"] = C_deck\n",
    "        C_cnt = 0 \n",
    "        \n",
    "    \n",
    "    if ((hn != 0) & ((hn % 50) == 0)):\n",
    "        np.save(\"Q_dict_v3_BS.npy\",Q)\n",
    "        print \"Saved after \" + str(hn) + \" hands and \" + str(time.time() - t) + \" s\" \n",
    "        \n",
    "        \n",
    "        \n",
    "    T_cnt = C_cnt/(np.round((len(df_deck)/52.0)*2.0)/2.0)\n",
    "    \n",
    "    df_Stat = pd.DataFrame({\"Player\":P_array,\"Status\":\"\",\"Value\":\"\",\"Hand_Nmb\":hn,\"Dealer_Score\":0})\n",
    "    \n",
    "    #Deal out \n",
    "    df_h_i, df_deck = deal_out(df_deck,N_players)\n",
    "    #Viz_cards = df_h_i.drop(1).reset_index(drop=True)\n",
    "    DC_i = df_h_i.loc[0]\n",
    "    DV_i = DC_i[\"Value\"]\n",
    "    local_Q = {}\n",
    "    \n",
    "    for n1 in range(0,N_players):\n",
    "        P_i = \"P\" + str(n1+1)\n",
    "        \n",
    "        cond1=0\n",
    "        \n",
    "        while cond1==0:\n",
    "            p_act = [\"H\",\"S\"]\n",
    "            \n",
    "            df_i = df_h_i.loc[df_h_i[\"Player\"]==P_i]\n",
    "            #pre_val = sum(df_i[\"Value\"])\n",
    "            pre_val, H_S = Value_HS(df_i)\n",
    "            \n",
    "            \n",
    "            \n",
    "            state_i = (pre_val, H_S, DV_i)#,T_cnt) #C_cnt\n",
    "            \n",
    "            Q, Act_i = act_Q_Mutate(state_i,Q,p_act)\n",
    "\n",
    "            \n",
    "            #Act_i = BS_St (df_i, DC_i, df_BSv)\n",
    "            df_h_i, df_deck, Status = Act(Act_i, df_h_i, P_i, df_deck)\n",
    "            \n",
    "            \n",
    "            df_i = df_h_i.loc[df_h_i[\"Player\"]==P_i]\n",
    "            #post_val = sum(df_i[\"Value\"])\n",
    "            post_val = Value(df_i)\n",
    "            \n",
    "            rew = reward(post_val)\n",
    "            #print (state_i,P_i,Act_i,rew)\n",
    "            local_Q = track_Q(state_i,P_i,Act_i,rew,local_Q)\n",
    "            #Q = Q_learn_v1(state_i,Q,Act_i,rew)\n",
    "            \n",
    "            if post_val > 21:\n",
    "                Status  = \"Bust\"\n",
    "                \n",
    "            if Status != \"Playing\":\n",
    "                cond1 = 1\n",
    "                df_Stat.loc[df_Stat[\"Player\"]==P_i,\"Value\"] = post_val\n",
    "                df_Stat.loc[df_Stat[\"Player\"]==P_i,\"Status\"] = Status\n",
    "                \n",
    "                \n",
    "            #d_det.update({c1:{\"Hand\":hn,\"Player\":P_i,\"Action\":Act_i,\"Pre_Val\":pre_val,\"Post_val\":post_val,\"Status\":Status}})\n",
    "            #c1 += 1\n",
    "        \n",
    "    #Dealer\n",
    "    M_val = np.max(df_Stat['Value'])\n",
    "    P_i = \"Dealer\"\n",
    "    cond1=0\n",
    "    while cond1 == 0:\n",
    "        df_i = df_h_i.loc[df_h_i[\"Player\"]==P_i]\n",
    "        #pre_val = sum(df_i[\"Value\"])\n",
    "        pre_val, H_S = Value_HS(df_i)\n",
    "        \n",
    "        #if pre_val < M_val:\n",
    "        #    Act_i = \"H\"\n",
    "        #else:\n",
    "        #    Act_i = \"S\"\n",
    "        \n",
    "        if pre_val < 17:\n",
    "            Act_i = \"H\"\n",
    "        elif ((pre_val >= 16) & (H_S == \"Soft\")):\n",
    "            Act_i = \"H\"\n",
    "        elif ((pre_val >= 17) & (H_S == \"Hard\")):\n",
    "            Act_i = \"S\"\n",
    "        else:\n",
    "            print \"check dealer logic\"\n",
    "            print pre_val\n",
    "            print df_i\n",
    "            df_j = df_i\n",
    "        \n",
    "              \n",
    "              \n",
    "        df_h_i, df_deck, Status = Act(Act_i, df_h_i, P_i, df_deck)\n",
    "        \n",
    "        df_i = df_h_i.loc[df_h_i[\"Player\"]==P_i]\n",
    "        #post_val = sum(df_i[\"Value\"])\n",
    "        post_val = Value(df_i)\n",
    "        \n",
    "        if post_val > 21:\n",
    "            Status = \"Bust\"\n",
    "            \n",
    "        if Status != \"Playing\":\n",
    "            cond1 = 1\n",
    "            df_Stat.loc[:,\"Dealer_Score\"] = post_val\n",
    "            #df_Stat.loc[df_Stat[\"Player\"]==P_i,\"Status\"] = Status\n",
    "    \n",
    "    #print df_h_i\n",
    "    \n",
    "    C_cnt = C_cnt + sum(df_h_i[\"Cvalue\"])\n",
    "    \n",
    "    if (hn+1) % 50 == 0:\n",
    "        A, df_comb = BS_match(df_BSv)\n",
    "        A['Hand'] = hn + 1\n",
    "        match_dict.update({hn+1:A.pivot(index = 'Hand', columns='Status', values='Q_action').reset_index().to_dict(orient='records')[0]})\n",
    "        df_matcher = pd.concat([df_matcher,A])\n",
    "    \n",
    "    \n",
    "    \n",
    "    Q = Q_learn_PD_v2 (df_Stat,local_Q,Q)\n",
    "    df_Stat[\"Card_Count\"] = C_cnt\n",
    "    #df_out = pd.concat([df_out,df_Stat])\n",
    "    \n",
    "    # TRUE COUNT = RUN COUNT / Number of decks to nearest half deck\n",
    "       \n",
    "    #d_det.update({c1:{\"Hand\":hn,\"Player\":P_i,\"Action\":Act_i,\"Pre_Val\":pre_val,\"Post_val\":post_val,\"Status\":Status}})\n",
    "    #c1 += 1\n",
    "\n",
    "    \n",
    "np.save(\"Q_dict_v3_BS.npy\",Q)\n",
    "print str(N_hands) + \" hands took \" + str(time.time() - t) + \" s\"    \n",
    "\n",
    "#df_det = pd.DataFrame.from_dict(d_det,orient=\"index\")\n",
    "#df_out = df_out.reset_index(drop=True)\n",
    "                \n",
    "\n",
    "    \n",
    "    \n",
    "    \n",
    "#df_out[\"Outcome\"] = \"\"\n",
    "#df_out.loc[df_out[\"Status\"]==\"Bust\",\"Outcome\"] = \"Dealer\"\n",
    "#df_out.loc[(df_out[\"Status\"]==\"Stick\")&(df_out[\"Dealer_Score\"]>21),\"Outcome\"] = \"Player\"\n",
    "#df_out.loc[(df_out[\"Status\"]==\"Stick\")&(df_out[\"Dealer_Score\"]<22)&(df_out[\"Dealer_Score\"] < df_out[\"Value\"]),\"Outcome\"] = \"Player\"\n",
    "#df_out.loc[(df_out[\"Status\"]==\"Stick\")&(df_out[\"Dealer_Score\"]<22)&(df_out[\"Dealer_Score\"] >= df_out[\"Value\"]),\"Outcome\"] = \"Dealer\"\n",
    "\n",
    "\n",
    "#df_WL = df_out[[\"Outcome\",\"Value\"]].groupby([\"Outcome\"]).count()\n",
    "#df_WL_Spread_ = df_out[[\"Player\",\"Card_Count\",\"Outcome\",\"Value\"]].groupby([\"Player\",\"Card_Count\",\"Outcome\"]).count()\n",
    "\n",
    "#df_WL_Spread_2_ = df_out[[\"Card_Count\",\"Outcome\",\"Value\"]].groupby([\"Player\",\"Card_Count\",\"Outcome\"]).count()\n",
    "\n",
    "\n",
    "\n",
    "#df_out.to_csv(\"df_out.csv\")"
   ]
  },
  {
   "cell_type": "code",
   "execution_count": 211,
   "metadata": {
    "collapsed": false
   },
   "outputs": [
    {
     "data": {
      "text/html": [
       "<div>\n",
       "<table border=\"1\" class=\"dataframe\">\n",
       "  <thead>\n",
       "    <tr style=\"text-align: right;\">\n",
       "      <th></th>\n",
       "      <th>Status</th>\n",
       "      <th>Q_action</th>\n",
       "      <th>Hand</th>\n",
       "    </tr>\n",
       "  </thead>\n",
       "  <tbody>\n",
       "    <tr>\n",
       "      <th>0</th>\n",
       "      <td>False</td>\n",
       "      <td>52</td>\n",
       "      <td>5000</td>\n",
       "    </tr>\n",
       "    <tr>\n",
       "      <th>1</th>\n",
       "      <td>Not Present</td>\n",
       "      <td>37</td>\n",
       "      <td>5000</td>\n",
       "    </tr>\n",
       "    <tr>\n",
       "      <th>2</th>\n",
       "      <td>True</td>\n",
       "      <td>191</td>\n",
       "      <td>5000</td>\n",
       "    </tr>\n",
       "  </tbody>\n",
       "</table>\n",
       "</div>"
      ],
      "text/plain": [
       "        Status  Q_action  Hand\n",
       "0        False        52  5000\n",
       "1  Not Present        37  5000\n",
       "2         True       191  5000"
      ]
     },
     "execution_count": 211,
     "metadata": {},
     "output_type": "execute_result"
    }
   ],
   "source": [
    "A"
   ]
  },
  {
   "cell_type": "code",
   "execution_count": 207,
   "metadata": {
    "collapsed": false,
    "scrolled": true
   },
   "outputs": [],
   "source": [
    "df_BSmat = pd.DataFrame.from_dict(match_dict,orient='index')"
   ]
  },
  {
   "cell_type": "code",
   "execution_count": 208,
   "metadata": {
    "collapsed": false
   },
   "outputs": [
    {
     "data": {
      "text/plain": [
       "[<matplotlib.text.Text at 0x113219650>,\n",
       " <matplotlib.text.Text at 0x113237850>,\n",
       " <matplotlib.text.Text at 0x113b8ec50>,\n",
       " <matplotlib.text.Text at 0x113b993d0>,\n",
       " <matplotlib.text.Text at 0x113b99b10>,\n",
       " <matplotlib.text.Text at 0x113ba3290>,\n",
       " <matplotlib.text.Text at 0x113ba39d0>,\n",
       " <matplotlib.text.Text at 0x113bb2f10>,\n",
       " <matplotlib.text.Text at 0x113bb94d0>,\n",
       " <matplotlib.text.Text at 0x113bb9c10>,\n",
       " <matplotlib.text.Text at 0x113bc3390>,\n",
       " <matplotlib.text.Text at 0x113bc3ad0>,\n",
       " <matplotlib.text.Text at 0x113bcc250>,\n",
       " <matplotlib.text.Text at 0x113bcc710>,\n",
       " <matplotlib.text.Text at 0x113bcce50>,\n",
       " <matplotlib.text.Text at 0x113bd65d0>,\n",
       " <matplotlib.text.Text at 0x113bd6d10>,\n",
       " <matplotlib.text.Text at 0x113be0490>,\n",
       " <matplotlib.text.Text at 0x113be0bd0>,\n",
       " <matplotlib.text.Text at 0x113bea350>,\n",
       " <matplotlib.text.Text at 0x113beaa90>,\n",
       " <matplotlib.text.Text at 0x113bf2210>,\n",
       " <matplotlib.text.Text at 0x113bf2950>,\n",
       " <matplotlib.text.Text at 0x113bfd0d0>,\n",
       " <matplotlib.text.Text at 0x113bfd810>,\n",
       " <matplotlib.text.Text at 0x113bfdf50>,\n",
       " <matplotlib.text.Text at 0x113c056d0>,\n",
       " <matplotlib.text.Text at 0x113c05e10>,\n",
       " <matplotlib.text.Text at 0x113c11590>,\n",
       " <matplotlib.text.Text at 0x113c11cd0>,\n",
       " <matplotlib.text.Text at 0x113c1a450>,\n",
       " <matplotlib.text.Text at 0x113c1ab90>,\n",
       " <matplotlib.text.Text at 0x113c23310>,\n",
       " <matplotlib.text.Text at 0x113c23a50>,\n",
       " <matplotlib.text.Text at 0x113c2c1d0>,\n",
       " <matplotlib.text.Text at 0x113c2c910>,\n",
       " <matplotlib.text.Text at 0x113c37090>,\n",
       " <matplotlib.text.Text at 0x113bb21d0>,\n",
       " <matplotlib.text.Text at 0x113ba3f10>,\n",
       " <matplotlib.text.Text at 0x113c37750>,\n",
       " <matplotlib.text.Text at 0x113c37e90>,\n",
       " <matplotlib.text.Text at 0x113c3f610>,\n",
       " <matplotlib.text.Text at 0x113c3fd50>,\n",
       " <matplotlib.text.Text at 0x113c494d0>,\n",
       " <matplotlib.text.Text at 0x113c49c10>,\n",
       " <matplotlib.text.Text at 0x113c53390>,\n",
       " <matplotlib.text.Text at 0x113c53ad0>,\n",
       " <matplotlib.text.Text at 0x113c5b250>,\n",
       " <matplotlib.text.Text at 0x113c5b990>,\n",
       " <matplotlib.text.Text at 0x113c67110>,\n",
       " <matplotlib.text.Text at 0x113c67850>,\n",
       " <matplotlib.text.Text at 0x113c67f90>,\n",
       " <matplotlib.text.Text at 0x113c70710>,\n",
       " <matplotlib.text.Text at 0x113c70e50>,\n",
       " <matplotlib.text.Text at 0x113c7a5d0>,\n",
       " <matplotlib.text.Text at 0x113c7ad10>,\n",
       " <matplotlib.text.Text at 0x113c83490>,\n",
       " <matplotlib.text.Text at 0x113c83bd0>,\n",
       " <matplotlib.text.Text at 0x113c8d350>,\n",
       " <matplotlib.text.Text at 0x113c8da90>,\n",
       " <matplotlib.text.Text at 0x113c96210>,\n",
       " <matplotlib.text.Text at 0x113c96950>,\n",
       " <matplotlib.text.Text at 0x113c9e0d0>,\n",
       " <matplotlib.text.Text at 0x113c9e810>,\n",
       " <matplotlib.text.Text at 0x113c9ef50>,\n",
       " <matplotlib.text.Text at 0x113ca96d0>,\n",
       " <matplotlib.text.Text at 0x113ca9e10>,\n",
       " <matplotlib.text.Text at 0x113cb3590>,\n",
       " <matplotlib.text.Text at 0x113cb3cd0>,\n",
       " <matplotlib.text.Text at 0x113cbc450>,\n",
       " <matplotlib.text.Text at 0x113cbcb90>,\n",
       " <matplotlib.text.Text at 0x113cc7310>,\n",
       " <matplotlib.text.Text at 0x113cc7a50>,\n",
       " <matplotlib.text.Text at 0x113cd01d0>,\n",
       " <matplotlib.text.Text at 0x113cd0910>,\n",
       " <matplotlib.text.Text at 0x113cd9090>,\n",
       " <matplotlib.text.Text at 0x113cd97d0>,\n",
       " <matplotlib.text.Text at 0x113cd9f10>,\n",
       " <matplotlib.text.Text at 0x113ce6690>,\n",
       " <matplotlib.text.Text at 0x113ce6dd0>,\n",
       " <matplotlib.text.Text at 0x113cee550>,\n",
       " <matplotlib.text.Text at 0x113ceec90>,\n",
       " <matplotlib.text.Text at 0x113cf9410>,\n",
       " <matplotlib.text.Text at 0x113cf9b50>,\n",
       " <matplotlib.text.Text at 0x113e032d0>,\n",
       " <matplotlib.text.Text at 0x113e03a10>,\n",
       " <matplotlib.text.Text at 0x113e0d190>,\n",
       " <matplotlib.text.Text at 0x113e0d8d0>,\n",
       " <matplotlib.text.Text at 0x113e17050>,\n",
       " <matplotlib.text.Text at 0x113e17790>,\n",
       " <matplotlib.text.Text at 0x113e17ed0>,\n",
       " <matplotlib.text.Text at 0x113e24650>,\n",
       " <matplotlib.text.Text at 0x113e24d90>,\n",
       " <matplotlib.text.Text at 0x113e2e510>,\n",
       " <matplotlib.text.Text at 0x113e2ec50>,\n",
       " <matplotlib.text.Text at 0x113e363d0>,\n",
       " <matplotlib.text.Text at 0x113e36b10>,\n",
       " <matplotlib.text.Text at 0x113e40290>,\n",
       " <matplotlib.text.Text at 0x113e409d0>,\n",
       " <matplotlib.text.Text at 0x113e4c150>]"
      ]
     },
     "execution_count": 208,
     "metadata": {},
     "output_type": "execute_result"
    },
    {
     "data": {
      "image/png": "[encoded data removed]",
      "text/plain": [
       "<matplotlib.figure.Figure at 0x111755dd0>"
      ]
     },
     "metadata": {},
     "output_type": "display_data"
    }
   ],
   "source": [
    "ax1 = df_BSmat.iloc[:,0:3].plot.bar(stacked=True)\n",
    "ax1.set_xticklabels(np.unique([df_BSmat.Hand]))"
   ]
  },
  {
   "cell_type": "code",
   "execution_count": 209,
   "metadata": {
    "collapsed": false
   },
   "outputs": [
    {
     "data": {
      "image/png": "[encoded data removed]",
      "text/plain": [
       "<matplotlib.figure.Figure at 0x11345ba50>"
      ]
     },
     "metadata": {},
     "output_type": "display_data"
    }
   ],
   "source": [
    "ax1 = df_BSmat.iloc[:,0:3].plot.line()"
   ]
  },
  {
   "cell_type": "code",
   "execution_count": 210,
   "metadata": {
    "collapsed": false
   },
   "outputs": [
    {
     "data": {
      "text/html": [
       "<div>\n",
       "<table border=\"1\" class=\"dataframe\">\n",
       "  <thead>\n",
       "    <tr style=\"text-align: right;\">\n",
       "      <th></th>\n",
       "      <th>True</th>\n",
       "      <th>False</th>\n",
       "      <th>Not Present</th>\n",
       "      <th>Hand</th>\n",
       "    </tr>\n",
       "  </thead>\n",
       "  <tbody>\n",
       "    <tr>\n",
       "      <th>50</th>\n",
       "      <td>80</td>\n",
       "      <td>38</td>\n",
       "      <td>162</td>\n",
       "      <td>50</td>\n",
       "    </tr>\n",
       "    <tr>\n",
       "      <th>100</th>\n",
       "      <td>109</td>\n",
       "      <td>48</td>\n",
       "      <td>123</td>\n",
       "      <td>100</td>\n",
       "    </tr>\n",
       "    <tr>\n",
       "      <th>150</th>\n",
       "      <td>132</td>\n",
       "      <td>50</td>\n",
       "      <td>98</td>\n",
       "      <td>150</td>\n",
       "    </tr>\n",
       "    <tr>\n",
       "      <th>200</th>\n",
       "      <td>149</td>\n",
       "      <td>46</td>\n",
       "      <td>85</td>\n",
       "      <td>200</td>\n",
       "    </tr>\n",
       "    <tr>\n",
       "      <th>250</th>\n",
       "      <td>155</td>\n",
       "      <td>48</td>\n",
       "      <td>77</td>\n",
       "      <td>250</td>\n",
       "    </tr>\n",
       "    <tr>\n",
       "      <th>300</th>\n",
       "      <td>158</td>\n",
       "      <td>52</td>\n",
       "      <td>70</td>\n",
       "      <td>300</td>\n",
       "    </tr>\n",
       "    <tr>\n",
       "      <th>350</th>\n",
       "      <td>162</td>\n",
       "      <td>54</td>\n",
       "      <td>64</td>\n",
       "      <td>350</td>\n",
       "    </tr>\n",
       "    <tr>\n",
       "      <th>400</th>\n",
       "      <td>166</td>\n",
       "      <td>53</td>\n",
       "      <td>61</td>\n",
       "      <td>400</td>\n",
       "    </tr>\n",
       "    <tr>\n",
       "      <th>450</th>\n",
       "      <td>167</td>\n",
       "      <td>53</td>\n",
       "      <td>60</td>\n",
       "      <td>450</td>\n",
       "    </tr>\n",
       "    <tr>\n",
       "      <th>500</th>\n",
       "      <td>170</td>\n",
       "      <td>54</td>\n",
       "      <td>56</td>\n",
       "      <td>500</td>\n",
       "    </tr>\n",
       "    <tr>\n",
       "      <th>550</th>\n",
       "      <td>168</td>\n",
       "      <td>58</td>\n",
       "      <td>54</td>\n",
       "      <td>550</td>\n",
       "    </tr>\n",
       "    <tr>\n",
       "      <th>600</th>\n",
       "      <td>173</td>\n",
       "      <td>57</td>\n",
       "      <td>50</td>\n",
       "      <td>600</td>\n",
       "    </tr>\n",
       "    <tr>\n",
       "      <th>650</th>\n",
       "      <td>173</td>\n",
       "      <td>58</td>\n",
       "      <td>49</td>\n",
       "      <td>650</td>\n",
       "    </tr>\n",
       "    <tr>\n",
       "      <th>700</th>\n",
       "      <td>175</td>\n",
       "      <td>57</td>\n",
       "      <td>48</td>\n",
       "      <td>700</td>\n",
       "    </tr>\n",
       "    <tr>\n",
       "      <th>750</th>\n",
       "      <td>177</td>\n",
       "      <td>57</td>\n",
       "      <td>46</td>\n",
       "      <td>750</td>\n",
       "    </tr>\n",
       "    <tr>\n",
       "      <th>800</th>\n",
       "      <td>182</td>\n",
       "      <td>54</td>\n",
       "      <td>44</td>\n",
       "      <td>800</td>\n",
       "    </tr>\n",
       "    <tr>\n",
       "      <th>850</th>\n",
       "      <td>183</td>\n",
       "      <td>55</td>\n",
       "      <td>42</td>\n",
       "      <td>850</td>\n",
       "    </tr>\n",
       "    <tr>\n",
       "      <th>900</th>\n",
       "      <td>183</td>\n",
       "      <td>56</td>\n",
       "      <td>41</td>\n",
       "      <td>900</td>\n",
       "    </tr>\n",
       "    <tr>\n",
       "      <th>950</th>\n",
       "      <td>185</td>\n",
       "      <td>55</td>\n",
       "      <td>40</td>\n",
       "      <td>950</td>\n",
       "    </tr>\n",
       "    <tr>\n",
       "      <th>1000</th>\n",
       "      <td>186</td>\n",
       "      <td>54</td>\n",
       "      <td>40</td>\n",
       "      <td>1000</td>\n",
       "    </tr>\n",
       "    <tr>\n",
       "      <th>1050</th>\n",
       "      <td>185</td>\n",
       "      <td>55</td>\n",
       "      <td>40</td>\n",
       "      <td>1050</td>\n",
       "    </tr>\n",
       "    <tr>\n",
       "      <th>1100</th>\n",
       "      <td>186</td>\n",
       "      <td>54</td>\n",
       "      <td>40</td>\n",
       "      <td>1100</td>\n",
       "    </tr>\n",
       "    <tr>\n",
       "      <th>1150</th>\n",
       "      <td>184</td>\n",
       "      <td>56</td>\n",
       "      <td>40</td>\n",
       "      <td>1150</td>\n",
       "    </tr>\n",
       "    <tr>\n",
       "      <th>1200</th>\n",
       "      <td>186</td>\n",
       "      <td>54</td>\n",
       "      <td>40</td>\n",
       "      <td>1200</td>\n",
       "    </tr>\n",
       "    <tr>\n",
       "      <th>1250</th>\n",
       "      <td>183</td>\n",
       "      <td>57</td>\n",
       "      <td>40</td>\n",
       "      <td>1250</td>\n",
       "    </tr>\n",
       "    <tr>\n",
       "      <th>1300</th>\n",
       "      <td>183</td>\n",
       "      <td>57</td>\n",
       "      <td>40</td>\n",
       "      <td>1300</td>\n",
       "    </tr>\n",
       "    <tr>\n",
       "      <th>1350</th>\n",
       "      <td>184</td>\n",
       "      <td>57</td>\n",
       "      <td>39</td>\n",
       "      <td>1350</td>\n",
       "    </tr>\n",
       "    <tr>\n",
       "      <th>1400</th>\n",
       "      <td>184</td>\n",
       "      <td>57</td>\n",
       "      <td>39</td>\n",
       "      <td>1400</td>\n",
       "    </tr>\n",
       "    <tr>\n",
       "      <th>1450</th>\n",
       "      <td>185</td>\n",
       "      <td>56</td>\n",
       "      <td>39</td>\n",
       "      <td>1450</td>\n",
       "    </tr>\n",
       "    <tr>\n",
       "      <th>1500</th>\n",
       "      <td>184</td>\n",
       "      <td>57</td>\n",
       "      <td>39</td>\n",
       "      <td>1500</td>\n",
       "    </tr>\n",
       "    <tr>\n",
       "      <th>...</th>\n",
       "      <td>...</td>\n",
       "      <td>...</td>\n",
       "      <td>...</td>\n",
       "      <td>...</td>\n",
       "    </tr>\n",
       "    <tr>\n",
       "      <th>3550</th>\n",
       "      <td>186</td>\n",
       "      <td>57</td>\n",
       "      <td>37</td>\n",
       "      <td>3550</td>\n",
       "    </tr>\n",
       "    <tr>\n",
       "      <th>3600</th>\n",
       "      <td>188</td>\n",
       "      <td>55</td>\n",
       "      <td>37</td>\n",
       "      <td>3600</td>\n",
       "    </tr>\n",
       "    <tr>\n",
       "      <th>3650</th>\n",
       "      <td>188</td>\n",
       "      <td>55</td>\n",
       "      <td>37</td>\n",
       "      <td>3650</td>\n",
       "    </tr>\n",
       "    <tr>\n",
       "      <th>3700</th>\n",
       "      <td>189</td>\n",
       "      <td>54</td>\n",
       "      <td>37</td>\n",
       "      <td>3700</td>\n",
       "    </tr>\n",
       "    <tr>\n",
       "      <th>3750</th>\n",
       "      <td>188</td>\n",
       "      <td>55</td>\n",
       "      <td>37</td>\n",
       "      <td>3750</td>\n",
       "    </tr>\n",
       "    <tr>\n",
       "      <th>3800</th>\n",
       "      <td>188</td>\n",
       "      <td>55</td>\n",
       "      <td>37</td>\n",
       "      <td>3800</td>\n",
       "    </tr>\n",
       "    <tr>\n",
       "      <th>3850</th>\n",
       "      <td>187</td>\n",
       "      <td>56</td>\n",
       "      <td>37</td>\n",
       "      <td>3850</td>\n",
       "    </tr>\n",
       "    <tr>\n",
       "      <th>3900</th>\n",
       "      <td>188</td>\n",
       "      <td>55</td>\n",
       "      <td>37</td>\n",
       "      <td>3900</td>\n",
       "    </tr>\n",
       "    <tr>\n",
       "      <th>3950</th>\n",
       "      <td>188</td>\n",
       "      <td>55</td>\n",
       "      <td>37</td>\n",
       "      <td>3950</td>\n",
       "    </tr>\n",
       "    <tr>\n",
       "      <th>4000</th>\n",
       "      <td>189</td>\n",
       "      <td>54</td>\n",
       "      <td>37</td>\n",
       "      <td>4000</td>\n",
       "    </tr>\n",
       "    <tr>\n",
       "      <th>4050</th>\n",
       "      <td>189</td>\n",
       "      <td>54</td>\n",
       "      <td>37</td>\n",
       "      <td>4050</td>\n",
       "    </tr>\n",
       "    <tr>\n",
       "      <th>4100</th>\n",
       "      <td>191</td>\n",
       "      <td>52</td>\n",
       "      <td>37</td>\n",
       "      <td>4100</td>\n",
       "    </tr>\n",
       "    <tr>\n",
       "      <th>4150</th>\n",
       "      <td>190</td>\n",
       "      <td>53</td>\n",
       "      <td>37</td>\n",
       "      <td>4150</td>\n",
       "    </tr>\n",
       "    <tr>\n",
       "      <th>4200</th>\n",
       "      <td>190</td>\n",
       "      <td>53</td>\n",
       "      <td>37</td>\n",
       "      <td>4200</td>\n",
       "    </tr>\n",
       "    <tr>\n",
       "      <th>4250</th>\n",
       "      <td>191</td>\n",
       "      <td>52</td>\n",
       "      <td>37</td>\n",
       "      <td>4250</td>\n",
       "    </tr>\n",
       "    <tr>\n",
       "      <th>4300</th>\n",
       "      <td>192</td>\n",
       "      <td>51</td>\n",
       "      <td>37</td>\n",
       "      <td>4300</td>\n",
       "    </tr>\n",
       "    <tr>\n",
       "      <th>4350</th>\n",
       "      <td>192</td>\n",
       "      <td>51</td>\n",
       "      <td>37</td>\n",
       "      <td>4350</td>\n",
       "    </tr>\n",
       "    <tr>\n",
       "      <th>4400</th>\n",
       "      <td>192</td>\n",
       "      <td>51</td>\n",
       "      <td>37</td>\n",
       "      <td>4400</td>\n",
       "    </tr>\n",
       "    <tr>\n",
       "      <th>4450</th>\n",
       "      <td>192</td>\n",
       "      <td>51</td>\n",
       "      <td>37</td>\n",
       "      <td>4450</td>\n",
       "    </tr>\n",
       "    <tr>\n",
       "      <th>4500</th>\n",
       "      <td>192</td>\n",
       "      <td>51</td>\n",
       "      <td>37</td>\n",
       "      <td>4500</td>\n",
       "    </tr>\n",
       "    <tr>\n",
       "      <th>4550</th>\n",
       "      <td>192</td>\n",
       "      <td>51</td>\n",
       "      <td>37</td>\n",
       "      <td>4550</td>\n",
       "    </tr>\n",
       "    <tr>\n",
       "      <th>4600</th>\n",
       "      <td>192</td>\n",
       "      <td>51</td>\n",
       "      <td>37</td>\n",
       "      <td>4600</td>\n",
       "    </tr>\n",
       "    <tr>\n",
       "      <th>4650</th>\n",
       "      <td>192</td>\n",
       "      <td>51</td>\n",
       "      <td>37</td>\n",
       "      <td>4650</td>\n",
       "    </tr>\n",
       "    <tr>\n",
       "      <th>4700</th>\n",
       "      <td>192</td>\n",
       "      <td>51</td>\n",
       "      <td>37</td>\n",
       "      <td>4700</td>\n",
       "    </tr>\n",
       "    <tr>\n",
       "      <th>4750</th>\n",
       "      <td>192</td>\n",
       "      <td>51</td>\n",
       "      <td>37</td>\n",
       "      <td>4750</td>\n",
       "    </tr>\n",
       "    <tr>\n",
       "      <th>4800</th>\n",
       "      <td>192</td>\n",
       "      <td>51</td>\n",
       "      <td>37</td>\n",
       "      <td>4800</td>\n",
       "    </tr>\n",
       "    <tr>\n",
       "      <th>4850</th>\n",
       "      <td>192</td>\n",
       "      <td>51</td>\n",
       "      <td>37</td>\n",
       "      <td>4850</td>\n",
       "    </tr>\n",
       "    <tr>\n",
       "      <th>4900</th>\n",
       "      <td>191</td>\n",
       "      <td>52</td>\n",
       "      <td>37</td>\n",
       "      <td>4900</td>\n",
       "    </tr>\n",
       "    <tr>\n",
       "      <th>4950</th>\n",
       "      <td>191</td>\n",
       "      <td>52</td>\n",
       "      <td>37</td>\n",
       "      <td>4950</td>\n",
       "    </tr>\n",
       "    <tr>\n",
       "      <th>5000</th>\n",
       "      <td>191</td>\n",
       "      <td>52</td>\n",
       "      <td>37</td>\n",
       "      <td>5000</td>\n",
       "    </tr>\n",
       "  </tbody>\n",
       "</table>\n",
       "<p>100 rows × 4 columns</p>\n",
       "</div>"
      ],
      "text/plain": [
       "      True  False  Not Present  Hand\n",
       "50      80     38          162    50\n",
       "100    109     48          123   100\n",
       "150    132     50           98   150\n",
       "200    149     46           85   200\n",
       "250    155     48           77   250\n",
       "300    158     52           70   300\n",
       "350    162     54           64   350\n",
       "400    166     53           61   400\n",
       "450    167     53           60   450\n",
       "500    170     54           56   500\n",
       "550    168     58           54   550\n",
       "600    173     57           50   600\n",
       "650    173     58           49   650\n",
       "700    175     57           48   700\n",
       "750    177     57           46   750\n",
       "800    182     54           44   800\n",
       "850    183     55           42   850\n",
       "900    183     56           41   900\n",
       "950    185     55           40   950\n",
       "1000   186     54           40  1000\n",
       "1050   185     55           40  1050\n",
       "1100   186     54           40  1100\n",
       "1150   184     56           40  1150\n",
       "1200   186     54           40  1200\n",
       "1250   183     57           40  1250\n",
       "1300   183     57           40  1300\n",
       "1350   184     57           39  1350\n",
       "1400   184     57           39  1400\n",
       "1450   185     56           39  1450\n",
       "1500   184     57           39  1500\n",
       "...    ...    ...          ...   ...\n",
       "3550   186     57           37  3550\n",
       "3600   188     55           37  3600\n",
       "3650   188     55           37  3650\n",
       "3700   189     54           37  3700\n",
       "3750   188     55           37  3750\n",
       "3800   188     55           37  3800\n",
       "3850   187     56           37  3850\n",
       "3900   188     55           37  3900\n",
       "3950   188     55           37  3950\n",
       "4000   189     54           37  4000\n",
       "4050   189     54           37  4050\n",
       "4100   191     52           37  4100\n",
       "4150   190     53           37  4150\n",
       "4200   190     53           37  4200\n",
       "4250   191     52           37  4250\n",
       "4300   192     51           37  4300\n",
       "4350   192     51           37  4350\n",
       "4400   192     51           37  4400\n",
       "4450   192     51           37  4450\n",
       "4500   192     51           37  4500\n",
       "4550   192     51           37  4550\n",
       "4600   192     51           37  4600\n",
       "4650   192     51           37  4650\n",
       "4700   192     51           37  4700\n",
       "4750   192     51           37  4750\n",
       "4800   192     51           37  4800\n",
       "4850   192     51           37  4850\n",
       "4900   191     52           37  4900\n",
       "4950   191     52           37  4950\n",
       "5000   191     52           37  5000\n",
       "\n",
       "[100 rows x 4 columns]"
      ]
     },
     "execution_count": 210,
     "metadata": {},
     "output_type": "execute_result"
    }
   ],
   "source": [
    "df_BSmat"
   ]
  },
  {
   "cell_type": "code",
   "execution_count": null,
   "metadata": {
    "collapsed": true
   },
   "outputs": [],
   "source": [
    "ax = sns.barplot(x=\"\", y=\"total_bill\", data=tips)"
   ]
  },
  {
   "cell_type": "code",
   "execution_count": null,
   "metadata": {
    "collapsed": true
   },
   "outputs": [],
   "source": [
    "import pandas as pd\n",
    "from matplotlib import pyplot as plt\n",
    "import matplotlib as mpl\n",
    "import seaborn as sns\n",
    "%matplotlib inline\n",
    "\n",
    "#Read in data & create total column\n",
    "df_BSmat[\"total\"] = df_BSmat.sum(axis=0)\n",
    "#df_BSmat = df_BSmat.reset_index()\n",
    "\n",
    "#Set general plot properties\n",
    "sns.set_style(\"white\")\n",
    "sns.set_context({\"figure.figsize\": (24, 10)})\n",
    "\n",
    "#Plot 1 - background - \"total\" (top) series\n",
    "sns.barplot(x = stacked_bar_data.Group, y = stacked_bar_data.total, color = \"red\")\n",
    "\n",
    "#Plot 2 - overlay - \"bottom\" series\n",
    "bottom_plot = sns.barplot(x = stacked_bar_data.Group, y = stacked_bar_data.Series1, color = \"#0000A3\")\n",
    "\n",
    "\n"
   ]
  },
  {
   "cell_type": "code",
   "execution_count": 212,
   "metadata": {
    "collapsed": false,
    "scrolled": true
   },
   "outputs": [],
   "source": [
    "def BS_match(df_BSv):\n",
    "\n",
    "    df_comb = df_BSv.iloc[:,0:4]\n",
    "    df_comb[\"Q_action\"] = \"\"\n",
    "    df_comb[\"Q_value\"] = 0\n",
    "    df_comb[\"Total_Tracked_Actions\"] = 0\n",
    "    df_comb[\"Specific_Tracked_Actions\"] = 0\n",
    "    df_comb[\"BS_Match\"] = False\n",
    "    df_comb[\"Status\"] = \"\"\n",
    "\n",
    "\n",
    "    #correct the Dh and Ds...\n",
    "\n",
    "\n",
    "    for n1 in range(0,len(df_comb)):\n",
    "        st_i = (df_comb.loc[n1,'P_Val'],df_comb.loc[n1,'H_S'],df_comb.loc[n1,'D_C'])\n",
    "\n",
    "        if df_comb.loc[n1,'Action'] == \"Dh\":\n",
    "            df_comb.loc[n1,'Action'] = 'H'\n",
    "        elif df_comb.loc[n1,'Action'] == \"Ds\":\n",
    "            df_comb.loc[n1,'Action'] = 'S'\n",
    "\n",
    "\n",
    "        try:\n",
    "            TTAc = 0\n",
    "            vm = -100\n",
    "            for ki in Q[st_i].keys():\n",
    "                TTAc += Q[st_i][ki][1]\n",
    "                vi = Q[st_i][ki][0]\n",
    "                if vi > vm:\n",
    "                    act_j = ki\n",
    "                    vj = vi\n",
    "                    STAc = Q[st_i][ki][1]\n",
    "                    vm = vi\n",
    "        except:\n",
    "            TTAc = 0\n",
    "            STAc = 0\n",
    "            vj = 0\n",
    "            act_j = \"Not Present\"\n",
    "        df_comb.loc[n1,'Q_action'] = act_j\n",
    "        df_comb.loc[n1,'Q_value']  = vj\n",
    "        df_comb.loc[n1,'Total_Tracked_Actions'] = TTAc\n",
    "        df_comb.loc[n1,'Specific_Tracked_Actions'] = STAc\n",
    "\n",
    "        df_comb.loc[n1,'BS_Match'] = df_comb.loc[n1,'Action'] == df_comb.loc[n1,'Q_action']\n",
    "\n",
    "        if act_j == \"Not Present\":\n",
    "            status = act_j\n",
    "        else:\n",
    "            status = str(df_comb.loc[n1,'Action'] == df_comb.loc[n1,'Q_action'])\n",
    "\n",
    "        df_comb.loc[n1,'Status']= status\n",
    "\n",
    "\n",
    "    return df_comb[[\"Status\",'Q_action']].groupby('Status').count().reset_index(), df_comb\n",
    "\n",
    "\n",
    "\n",
    "#dict to df_BS"
   ]
  },
  {
   "cell_type": "code",
   "execution_count": 112,
   "metadata": {
    "collapsed": false
   },
   "outputs": [
    {
     "data": {
      "text/html": [
       "<div>\n",
       "<table border=\"1\" class=\"dataframe\">\n",
       "  <thead>\n",
       "    <tr style=\"text-align: right;\">\n",
       "      <th></th>\n",
       "      <th>Status</th>\n",
       "      <th>Q_action</th>\n",
       "      <th>Hand</th>\n",
       "    </tr>\n",
       "  </thead>\n",
       "  <tbody>\n",
       "    <tr>\n",
       "      <th>0</th>\n",
       "      <td>False</td>\n",
       "      <td>66</td>\n",
       "      <td>200</td>\n",
       "    </tr>\n",
       "    <tr>\n",
       "      <th>1</th>\n",
       "      <td>Not Present</td>\n",
       "      <td>75</td>\n",
       "      <td>200</td>\n",
       "    </tr>\n",
       "    <tr>\n",
       "      <th>2</th>\n",
       "      <td>True</td>\n",
       "      <td>139</td>\n",
       "      <td>200</td>\n",
       "    </tr>\n",
       "  </tbody>\n",
       "</table>\n",
       "</div>"
      ],
      "text/plain": [
       "        Status  Q_action  Hand\n",
       "0        False        66   200\n",
       "1  Not Present        75   200\n",
       "2         True       139   200"
      ]
     },
     "execution_count": 112,
     "metadata": {},
     "output_type": "execute_result"
    }
   ],
   "source": [
    "A"
   ]
  },
  {
   "cell_type": "code",
   "execution_count": 118,
   "metadata": {
    "collapsed": false
   },
   "outputs": [
    {
     "data": {
      "text/plain": [
       "[{'False': 66, 'Hand': 200, 'Not Present': 75, 'True': 139}]"
      ]
     },
     "execution_count": 118,
     "metadata": {},
     "output_type": "execute_result"
    }
   ],
   "source": [
    "B.to_dict(orient='records')"
   ]
  },
  {
   "cell_type": "code",
   "execution_count": 136,
   "metadata": {
    "collapsed": false
   },
   "outputs": [],
   "source": [
    "B = {}\n",
    "A = BS_match(df_BSv)\n",
    "A['Hand'] = hn + 1\n",
    ".update({hn+1:A.pivot(index = 'Hand', columns='Status', values='Q_action').reset_index().to_dict(orient='records')[0]})\n"
   ]
  },
  {
   "cell_type": "code",
   "execution_count": 137,
   "metadata": {
    "collapsed": false
   },
   "outputs": [
    {
     "data": {
      "text/plain": [
       "{200: {'False': 66, 'Hand': 200, 'Not Present': 75, 'True': 139}}"
      ]
     },
     "execution_count": 137,
     "metadata": {},
     "output_type": "execute_result"
    }
   ],
   "source": [
    "B"
   ]
  },
  {
   "cell_type": "code",
   "execution_count": 125,
   "metadata": {
    "collapsed": false
   },
   "outputs": [
    {
     "data": {
      "text/html": [
       "<div>\n",
       "<table border=\"1\" class=\"dataframe\">\n",
       "  <thead>\n",
       "    <tr style=\"text-align: right;\">\n",
       "      <th>Status</th>\n",
       "      <th>False</th>\n",
       "      <th>Not Present</th>\n",
       "      <th>True</th>\n",
       "    </tr>\n",
       "    <tr>\n",
       "      <th>Hand</th>\n",
       "      <th></th>\n",
       "      <th></th>\n",
       "      <th></th>\n",
       "    </tr>\n",
       "  </thead>\n",
       "  <tbody>\n",
       "    <tr>\n",
       "      <th>200</th>\n",
       "      <td>66</td>\n",
       "      <td>75</td>\n",
       "      <td>139</td>\n",
       "    </tr>\n",
       "  </tbody>\n",
       "</table>\n",
       "</div>"
      ],
      "text/plain": [
       "Status  False  Not Present  True\n",
       "Hand                            \n",
       "200        66           75   139"
      ]
     },
     "execution_count": 125,
     "metadata": {},
     "output_type": "execute_result"
    }
   ],
   "source": [
    "A.pivot(columns='Status',values='Q_action',index='Hand')"
   ]
  },
  {
   "cell_type": "code",
   "execution_count": 108,
   "metadata": {
    "collapsed": false
   },
   "outputs": [
    {
     "data": {
      "text/html": [
       "<div>\n",
       "<table border=\"1\" class=\"dataframe\">\n",
       "  <thead>\n",
       "    <tr style=\"text-align: right;\">\n",
       "      <th>Status</th>\n",
       "      <th>index</th>\n",
       "      <th>Hand</th>\n",
       "      <th>False</th>\n",
       "      <th>Not Present</th>\n",
       "      <th>True</th>\n",
       "    </tr>\n",
       "  </thead>\n",
       "  <tbody>\n",
       "    <tr>\n",
       "      <th>0</th>\n",
       "      <td>0</td>\n",
       "      <td>200</td>\n",
       "      <td>66</td>\n",
       "      <td>75</td>\n",
       "      <td>139</td>\n",
       "    </tr>\n",
       "  </tbody>\n",
       "</table>\n",
       "</div>"
      ],
      "text/plain": [
       "Status  index  Hand  False  Not Present  True\n",
       "0           0   200     66           75   139"
      ]
     },
     "execution_count": 108,
     "metadata": {},
     "output_type": "execute_result"
    }
   ],
   "source": [
    "B.index.name = None\n",
    "B"
   ]
  },
  {
   "cell_type": "code",
   "execution_count": 104,
   "metadata": {
    "collapsed": false
   },
   "outputs": [
    {
     "data": {
      "text/html": [
       "<div>\n",
       "<table border=\"1\" class=\"dataframe\">\n",
       "  <thead>\n",
       "    <tr style=\"text-align: right;\">\n",
       "      <th>Status</th>\n",
       "      <th>index</th>\n",
       "      <th>Hand</th>\n",
       "      <th>False</th>\n",
       "      <th>Not Present</th>\n",
       "      <th>True</th>\n",
       "    </tr>\n",
       "  </thead>\n",
       "  <tbody>\n",
       "    <tr>\n",
       "      <th>0</th>\n",
       "      <td>0</td>\n",
       "      <td>200</td>\n",
       "      <td>66</td>\n",
       "      <td>75</td>\n",
       "      <td>139</td>\n",
       "    </tr>\n",
       "  </tbody>\n",
       "</table>\n",
       "</div>"
      ],
      "text/plain": [
       "Status  index  Hand  False  Not Present  True\n",
       "0           0   200     66           75   139"
      ]
     },
     "execution_count": 104,
     "metadata": {},
     "output_type": "execute_result"
    }
   ],
   "source": [
    "A.pivot(index = 'Hand', columns='Status', values='Q_action').reset_index().reset_index()"
   ]
  },
  {
   "cell_type": "code",
   "execution_count": 69,
   "metadata": {
    "collapsed": false
   },
   "outputs": [
    {
     "data": {
      "text/html": [
       "<div>\n",
       "<table border=\"1\" class=\"dataframe\">\n",
       "  <thead>\n",
       "    <tr style=\"text-align: right;\">\n",
       "      <th></th>\n",
       "      <th>Q_action</th>\n",
       "      <th>Hand</th>\n",
       "    </tr>\n",
       "  </thead>\n",
       "  <tbody>\n",
       "    <tr>\n",
       "      <th>0</th>\n",
       "      <td>66</td>\n",
       "      <td>200</td>\n",
       "    </tr>\n",
       "    <tr>\n",
       "      <th>1</th>\n",
       "      <td>75</td>\n",
       "      <td>200</td>\n",
       "    </tr>\n",
       "    <tr>\n",
       "      <th>2</th>\n",
       "      <td>139</td>\n",
       "      <td>200</td>\n",
       "    </tr>\n",
       "  </tbody>\n",
       "</table>\n",
       "</div>"
      ],
      "text/plain": [
       "   Q_action  Hand\n",
       "0        66   200\n",
       "1        75   200\n",
       "2       139   200"
      ]
     },
     "execution_count": 69,
     "metadata": {},
     "output_type": "execute_result"
    }
   ],
   "source": [
    "A.drop(['Status'],axis = 1)"
   ]
  },
  {
   "cell_type": "code",
   "execution_count": 101,
   "metadata": {
    "collapsed": false
   },
   "outputs": [
    {
     "data": {
      "text/html": [
       "<div>\n",
       "<table border=\"1\" class=\"dataframe\">\n",
       "  <thead>\n",
       "    <tr style=\"text-align: right;\">\n",
       "      <th>Status</th>\n",
       "      <th>index</th>\n",
       "      <th>Hand</th>\n",
       "      <th>False</th>\n",
       "      <th>Not Present</th>\n",
       "      <th>True</th>\n",
       "    </tr>\n",
       "    <tr>\n",
       "      <th>index</th>\n",
       "      <th></th>\n",
       "      <th></th>\n",
       "      <th></th>\n",
       "      <th></th>\n",
       "      <th></th>\n",
       "    </tr>\n",
       "  </thead>\n",
       "  <tbody>\n",
       "    <tr>\n",
       "      <th>0</th>\n",
       "      <td>0</td>\n",
       "      <td>200</td>\n",
       "      <td>66</td>\n",
       "      <td>75</td>\n",
       "      <td>139</td>\n",
       "    </tr>\n",
       "  </tbody>\n",
       "</table>\n",
       "</div>"
      ],
      "text/plain": [
       "Status  index  Hand  False  Not Present  True\n",
       "index                                        \n",
       "0           0   200     66           75   139"
      ]
     },
     "execution_count": 101,
     "metadata": {},
     "output_type": "execute_result"
    }
   ],
   "source": [
    "B.index.names = ['index']"
   ]
  },
  {
   "cell_type": "code",
   "execution_count": 17,
   "metadata": {
    "collapsed": false
   },
   "outputs": [
    {
     "data": {
      "text/plain": [
       "0"
      ]
     },
     "execution_count": 17,
     "metadata": {},
     "output_type": "execute_result"
    }
   ],
   "source": [
    "np.sum(df_comb[\"BS_Match\"])"
   ]
  },
  {
   "cell_type": "code",
   "execution_count": 18,
   "metadata": {
    "collapsed": false
   },
   "outputs": [
    {
     "data": {
      "text/html": [
       "<div>\n",
       "<table border=\"1\" class=\"dataframe\">\n",
       "  <thead>\n",
       "    <tr style=\"text-align: right;\">\n",
       "      <th></th>\n",
       "      <th>P_Val</th>\n",
       "      <th>H_S</th>\n",
       "      <th>D_C</th>\n",
       "      <th>Action</th>\n",
       "      <th>Q_action</th>\n",
       "      <th>Q_value</th>\n",
       "      <th>Total_Tracked_Actions</th>\n",
       "      <th>Specific_Tracked_Actions</th>\n",
       "      <th>BS_Match</th>\n",
       "      <th>Status</th>\n",
       "    </tr>\n",
       "  </thead>\n",
       "  <tbody>\n",
       "    <tr>\n",
       "      <th>0</th>\n",
       "      <td>5</td>\n",
       "      <td>Hard</td>\n",
       "      <td>2</td>\n",
       "      <td>H</td>\n",
       "      <td>Not Present</td>\n",
       "      <td>0</td>\n",
       "      <td>0</td>\n",
       "      <td>0</td>\n",
       "      <td>False</td>\n",
       "      <td>Not Present</td>\n",
       "    </tr>\n",
       "    <tr>\n",
       "      <th>1</th>\n",
       "      <td>6</td>\n",
       "      <td>Hard</td>\n",
       "      <td>2</td>\n",
       "      <td>H</td>\n",
       "      <td>Not Present</td>\n",
       "      <td>0</td>\n",
       "      <td>0</td>\n",
       "      <td>0</td>\n",
       "      <td>False</td>\n",
       "      <td>Not Present</td>\n",
       "    </tr>\n",
       "    <tr>\n",
       "      <th>2</th>\n",
       "      <td>7</td>\n",
       "      <td>Hard</td>\n",
       "      <td>2</td>\n",
       "      <td>H</td>\n",
       "      <td>Not Present</td>\n",
       "      <td>0</td>\n",
       "      <td>0</td>\n",
       "      <td>0</td>\n",
       "      <td>False</td>\n",
       "      <td>Not Present</td>\n",
       "    </tr>\n",
       "    <tr>\n",
       "      <th>3</th>\n",
       "      <td>8</td>\n",
       "      <td>Hard</td>\n",
       "      <td>2</td>\n",
       "      <td>H</td>\n",
       "      <td>Not Present</td>\n",
       "      <td>0</td>\n",
       "      <td>0</td>\n",
       "      <td>0</td>\n",
       "      <td>False</td>\n",
       "      <td>Not Present</td>\n",
       "    </tr>\n",
       "    <tr>\n",
       "      <th>4</th>\n",
       "      <td>9</td>\n",
       "      <td>Hard</td>\n",
       "      <td>2</td>\n",
       "      <td>H</td>\n",
       "      <td>Not Present</td>\n",
       "      <td>0</td>\n",
       "      <td>0</td>\n",
       "      <td>0</td>\n",
       "      <td>False</td>\n",
       "      <td>Not Present</td>\n",
       "    </tr>\n",
       "  </tbody>\n",
       "</table>\n",
       "</div>"
      ],
      "text/plain": [
       "   P_Val   H_S  D_C Action     Q_action  Q_value  Total_Tracked_Actions  \\\n",
       "0      5  Hard    2      H  Not Present        0                      0   \n",
       "1      6  Hard    2      H  Not Present        0                      0   \n",
       "2      7  Hard    2      H  Not Present        0                      0   \n",
       "3      8  Hard    2      H  Not Present        0                      0   \n",
       "4      9  Hard    2      H  Not Present        0                      0   \n",
       "\n",
       "   Specific_Tracked_Actions BS_Match       Status  \n",
       "0                         0    False  Not Present  \n",
       "1                         0    False  Not Present  \n",
       "2                         0    False  Not Present  \n",
       "3                         0    False  Not Present  \n",
       "4                         0    False  Not Present  "
      ]
     },
     "execution_count": 18,
     "metadata": {},
     "output_type": "execute_result"
    }
   ],
   "source": [
    "df_comb.head()"
   ]
  },
  {
   "cell_type": "code",
   "execution_count": 111,
   "metadata": {
    "collapsed": false,
    "scrolled": true
   },
   "outputs": [
    {
     "data": {
      "text/html": [
       "<div>\n",
       "<table border=\"1\" class=\"dataframe\">\n",
       "  <thead>\n",
       "    <tr style=\"text-align: right;\">\n",
       "      <th></th>\n",
       "      <th>Status</th>\n",
       "      <th>Q_action</th>\n",
       "    </tr>\n",
       "  </thead>\n",
       "  <tbody>\n",
       "    <tr>\n",
       "      <th>0</th>\n",
       "      <td></td>\n",
       "      <td>280</td>\n",
       "    </tr>\n",
       "  </tbody>\n",
       "</table>\n",
       "</div>"
      ],
      "text/plain": [
       "  Status  Q_action\n",
       "0              280"
      ]
     },
     "execution_count": 111,
     "metadata": {},
     "output_type": "execute_result"
    }
   ],
   "source": [
    "df_comb[[\"Status\",'Q_action']].groupby('Status').count().reset_index()"
   ]
  },
  {
   "cell_type": "code",
   "execution_count": null,
   "metadata": {
    "collapsed": false
   },
   "outputs": [],
   "source": [
    "(10000 / (3000/ 1148.5)) / 3600.0"
   ]
  },
  {
   "cell_type": "code",
   "execution_count": null,
   "metadata": {
    "collapsed": false
   },
   "outputs": [],
   "source": [
    "(3600.0 * 8.0) * (50.0 / 150.0)"
   ]
  },
  {
   "cell_type": "code",
   "execution_count": null,
   "metadata": {
    "collapsed": false
   },
   "outputs": [],
   "source": [
    "(280  * 20) * 10"
   ]
  },
  {
   "cell_type": "code",
   "execution_count": null,
   "metadata": {
    "collapsed": false
   },
   "outputs": [],
   "source": [
    "#np.save(\"Q_dict_v2.npy\",Q)"
   ]
  },
  {
   "cell_type": "code",
   "execution_count": null,
   "metadata": {
    "collapsed": false,
    "scrolled": true
   },
   "outputs": [],
   "source": [
    "df_Q = pd.DataFrame.from_dict(Q,orient=\"index\").reset_index()\n",
    "#df_Q"
   ]
  },
  {
   "cell_type": "code",
   "execution_count": null,
   "metadata": {
    "collapsed": false,
    "scrolled": true
   },
   "outputs": [],
   "source": [
    "df_WL_Spread = df_WL_Spread_.reset_index()\n",
    "\n",
    "#df_WL_Spread_2 = df_WL_Spread_2_.reset_index()\n",
    "\n",
    "#df_WL_Spread_2['Ratio'] = "
   ]
  },
  {
   "cell_type": "code",
   "execution_count": null,
   "metadata": {
    "collapsed": false
   },
   "outputs": [],
   "source": [
    "import matplotlib.pyplot as plt\n",
    "%matplotlib inline\n",
    "\n",
    "df_WL_Spread[\"CC\"] = pd.to_numeric(df_WL_Spread['Card_Count'],downcast=\"float\")\n",
    "df_WL_Spread[\"CCint\"] = pd.to_numeric(df_WL_Spread['Card_Count'],downcast=\"int\")\n"
   ]
  },
  {
   "cell_type": "code",
   "execution_count": null,
   "metadata": {
    "collapsed": false
   },
   "outputs": [],
   "source": [
    "df_WL_Spread.head()"
   ]
  },
  {
   "cell_type": "code",
   "execution_count": null,
   "metadata": {
    "collapsed": false
   },
   "outputs": [],
   "source": [
    "qplot(x=\"CC\",y=\"Value\",geom=\"smooth\",data = df_WL_Spread,color = \"Outcome\")"
   ]
  },
  {
   "cell_type": "markdown",
   "metadata": {
    "collapsed": true
   },
   "source": [
    "# One off update with Basic Strategy \n",
    "\n"
   ]
  },
  {
   "cell_type": "code",
   "execution_count": null,
   "metadata": {
    "collapsed": false
   },
   "outputs": [],
   "source": [
    "qi[act_i][0]"
   ]
  },
  {
   "cell_type": "code",
   "execution_count": null,
   "metadata": {
    "collapsed": false
   },
   "outputs": [],
   "source": [
    "st_i"
   ]
  },
  {
   "cell_type": "code",
   "execution_count": null,
   "metadata": {
    "collapsed": false
   },
   "outputs": [],
   "source": [
    "Q1 = np.load('Q_dict_v2.npy').item()\n",
    "P_act = ['H','S']\n",
    "G_rew = 15.0\n",
    "B_rew = -15.0\n",
    "N_add = 7.0\n",
    "\n",
    "for st_i in Q1.keys():\n",
    "    DC_i = st_i[2]\n",
    "    if DC_i == 11:\n",
    "        DC_i = 14\n",
    "    Act_i = BS_St_val(st_i[0],st_i[1],DC_i,df_BSv)\n",
    "    qi = Q1[st_i]\n",
    "    for act_i in P_act:\n",
    "        if act_i == Act_i:\n",
    "            cnt = qi[act_i][1]\n",
    "            n_rew = ((qi[act_i][0] * cnt) + (G_rew * N_add))/(cnt + N_add)\n",
    "            qi.update({act_i:[n_rew,cnt+N_add]})\n",
    "\n",
    "        else:\n",
    "            cnt = qi[act_i][1]\n",
    "            n_rew = ((qi[act_i][0] * cnt) + (B_rew * N_add))/(cnt + N_add)\n",
    "            qi.update({act_i:[n_rew,cnt+N_add]})\n",
    "    Q1.update({st_i:qi})\n",
    "    \n",
    "np.save(\"Q_dict_v3_BS.npy\",Q1)"
   ]
  },
  {
   "cell_type": "code",
   "execution_count": null,
   "metadata": {
    "collapsed": false,
    "scrolled": true
   },
   "outputs": [],
   "source": [
    "(-45.0 + (-15.0 * 7.0))/8.0"
   ]
  },
  {
   "cell_type": "code",
   "execution_count": null,
   "metadata": {
    "collapsed": false
   },
   "outputs": [],
   "source": [
    "qi"
   ]
  },
  {
   "cell_type": "code",
   "execution_count": null,
   "metadata": {
    "collapsed": false
   },
   "outputs": [],
   "source": [
    "df_BSv.columns"
   ]
  },
  {
   "cell_type": "code",
   "execution_count": null,
   "metadata": {
    "collapsed": false
   },
   "outputs": [],
   "source": [
    "df_BSv[df_BSv['P_Val']==5]"
   ]
  },
  {
   "cell_type": "code",
   "execution_count": null,
   "metadata": {
    "collapsed": false,
    "scrolled": true
   },
   "outputs": [],
   "source": [
    "Acter = df_BSv.loc[(df_BSv[\"P_Val\"] == Val) & (df_BSv[\"H_S\"] == H_S) & (df_BSv[\"D_C\"] == DC_i),\"Action\"]#.reset_index(drop=True)\n",
    "Act_i = Acter.iloc[0]"
   ]
  },
  {
   "cell_type": "code",
   "execution_count": null,
   "metadata": {
    "collapsed": false
   },
   "outputs": [],
   "source": [
    "Q2 = np.load('Q_dict_v3_BS.npy').item()"
   ]
  },
  {
   "cell_type": "code",
   "execution_count": null,
   "metadata": {
    "collapsed": false,
    "scrolled": true
   },
   "outputs": [],
   "source": [
    "Q2"
   ]
  },
  {
   "cell_type": "code",
   "execution_count": null,
   "metadata": {
    "collapsed": false
   },
   "outputs": [],
   "source": [
    "Val=st_i[0]\n",
    "H_S=st_i[1]\n",
    "DC_i=st_i[2]\n",
    "#BS_St_val(Val,H_S,DC_i,df_BSv)"
   ]
  },
  {
   "cell_type": "code",
   "execution_count": null,
   "metadata": {
    "collapsed": false
   },
   "outputs": [],
   "source": [
    "States[1]"
   ]
  },
  {
   "cell_type": "code",
   "execution_count": null,
   "metadata": {
    "collapsed": false
   },
   "outputs": [],
   "source": [
    "Q1[st_i]"
   ]
  },
  {
   "cell_type": "code",
   "execution_count": null,
   "metadata": {
    "collapsed": false
   },
   "outputs": [],
   "source": [
    "st_i"
   ]
  },
  {
   "cell_type": "code",
   "execution_count": null,
   "metadata": {
    "collapsed": true
   },
   "outputs": [],
   "source": [
    "BS_St_val (Val, H_S, DC_i, df_BSv)"
   ]
  }
 ],
 "metadata": {
  "anaconda-cloud": {},
  "kernelspec": {
   "display_name": "Python [conda root]",
   "language": "python",
   "name": "conda-root-py"
  },
  "language_info": {
   "codemirror_mode": {
    "name": "ipython",
    "version": 2
   },
   "file_extension": ".py",
   "mimetype": "text/x-python",
   "name": "python",
   "nbconvert_exporter": "python",
   "pygments_lexer": "ipython2",
   "version": "2.7.12"
  }
 },
 "nbformat": 4,
 "nbformat_minor": 2
}
